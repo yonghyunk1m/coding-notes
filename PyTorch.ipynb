{
  "nbformat": 4,
  "nbformat_minor": 0,
  "metadata": {
    "colab": {
      "name": "PyTorch.ipynb",
      "provenance": [],
      "authorship_tag": "ABX9TyMxCuLbfGca4iK8TKYtHCx4",
      "include_colab_link": true
    },
    "kernelspec": {
      "name": "python3",
      "display_name": "Python 3"
    },
    "language_info": {
      "name": "python"
    }
  },
  "cells": [
    {
      "cell_type": "markdown",
      "metadata": {
        "id": "view-in-github",
        "colab_type": "text"
      },
      "source": [
        "<a href=\"https://colab.research.google.com/github/yonghyunk1m/coding-notes/blob/master/PyTorch.ipynb\" target=\"_parent\"><img src=\"https://colab.research.google.com/assets/colab-badge.svg\" alt=\"Open In Colab\"/></a>"
      ]
    },
    {
      "cell_type": "markdown",
      "source": [
        "**Pytorch에 대해서 알아보도록 하자!**\n",
        "\n",
        "\n",
        "> *참고자료: wikidocs.net/60034*\n",
        "\n"
      ],
      "metadata": {
        "id": "c0Q9KvGgMs-H"
      }
    },
    {
      "cell_type": "markdown",
      "source": [
        "[Tensor]\n",
        "\n",
        "Scalar (0D)\n",
        "Vector (1D)\n",
        "Matrix (2D)"
      ],
      "metadata": {
        "id": "RoYg735NM2Wi"
      }
    },
    {
      "cell_type": "code",
      "source": [
        "import numpy as np\n",
        "\n",
        "tensor_np_1D = np.array([0., 1., 2., 3., 4., 5., 6., 7.])\n",
        "print(tensor_np_1D)\n",
        "print(\"Rank: \", tensor_np_1D.ndim) # ndim: dimension number\n",
        "print(\"Shape: \", tensor_np_1D.shape) # shape: size (or shape)"
      ],
      "metadata": {
        "colab": {
          "base_uri": "https://localhost:8080/"
        },
        "id": "7QOPgM-JOJRq",
        "outputId": "415a7d8c-2579-4855-a8d1-92261c5b7186"
      },
      "execution_count": 4,
      "outputs": [
        {
          "output_type": "stream",
          "name": "stdout",
          "text": [
            "[0. 1. 2. 3. 4. 5. 6. 7.]\n",
            "Rank:  1\n",
            "Shape:  (8,)\n"
          ]
        }
      ]
    },
    {
      "cell_type": "code",
      "source": [
        "tensor_np_2D = np.array([[1., 2., 3.], [4., 5., 6.], [7., 8., 9.], [10., 11., 12.]])\n",
        "print(tensor_np_2D)\n",
        "print(\"Rank: \", tensor_np_2D.ndim) # ndim: dimension number\n",
        "print(\"Shape: \", tensor_np_2D.shape) # shape: size (or shape)"
      ],
      "metadata": {
        "colab": {
          "base_uri": "https://localhost:8080/"
        },
        "id": "CMVqEHFmOp5d",
        "outputId": "d19ec893-3c96-4450-cbdb-a38cb2447f52"
      },
      "execution_count": 5,
      "outputs": [
        {
          "output_type": "stream",
          "name": "stdout",
          "text": [
            "[[ 1.  2.  3.]\n",
            " [ 4.  5.  6.]\n",
            " [ 7.  8.  9.]\n",
            " [10. 11. 12.]]\n",
            "Rank:  2\n",
            "Shape:  (4, 3)\n"
          ]
        }
      ]
    },
    {
      "cell_type": "code",
      "source": [
        "import torch\n",
        "tensor_pt_1D = torch.FloatTensor([0., 1., 2., 3., 4., 5., 6., 7.])\n",
        "print(tensor_pt_1D)\n",
        "print(\"Dimension: \", tensor_pt_1D.dim)\n",
        "print(\"Shape: \", tensor_pt_1D.shape)\n",
        "print(\"Size(): \", tensor_pt_1D.size())"
      ],
      "metadata": {
        "colab": {
          "base_uri": "https://localhost:8080/"
        },
        "id": "Ukq-sLF_O-ar",
        "outputId": "aa190202-01b3-456b-8e80-03fdfc567395"
      },
      "execution_count": 6,
      "outputs": [
        {
          "output_type": "stream",
          "name": "stdout",
          "text": [
            "tensor([0., 1., 2., 3., 4., 5., 6., 7.])\n",
            "Dimension:  <built-in method dim of Tensor object at 0x7fac106f9830>\n",
            "Shape:  torch.Size([8])\n",
            "Size():  torch.Size([8])\n"
          ]
        }
      ]
    },
    {
      "cell_type": "code",
      "source": [
        "#Indexing, Slicing\n",
        "print(tensor_pt_1D[0])\n",
        "print(tensor_pt_1D[2:5])\n",
        "print(tensor_pt_1D[2:])"
      ],
      "metadata": {
        "colab": {
          "base_uri": "https://localhost:8080/"
        },
        "id": "NU_A5UQrPiDG",
        "outputId": "e4a04b2a-7f40-4223-ca35-43ade4206533"
      },
      "execution_count": 7,
      "outputs": [
        {
          "output_type": "stream",
          "name": "stdout",
          "text": [
            "tensor(0.)\n",
            "tensor([2., 3., 4.])\n",
            "tensor([2., 3., 4., 5., 6., 7.])\n"
          ]
        }
      ]
    },
    {
      "cell_type": "code",
      "source": [
        "tensor_pt_2D = torch.FloatTensor([[1.,2.,3.],\n",
        "                                  [4.,5.,6.],\n",
        "                                  [7.,8.,9.],\n",
        "                                  [10.,11.,12.]])"
      ],
      "metadata": {
        "id": "qrXX28gMPz2U"
      },
      "execution_count": 8,
      "outputs": []
    },
    {
      "cell_type": "code",
      "source": [
        "print(tensor_pt_2D.dim())\n",
        "print(tensor_pt_2D.shape)\n",
        "print(tensor_pt_2D.size())"
      ],
      "metadata": {
        "colab": {
          "base_uri": "https://localhost:8080/"
        },
        "id": "ZHuI_Lq7QBhX",
        "outputId": "37c210bb-5ca0-43dc-d778-a1c1dfecafbb"
      },
      "execution_count": 9,
      "outputs": [
        {
          "output_type": "stream",
          "name": "stdout",
          "text": [
            "2\n",
            "torch.Size([4, 3])\n",
            "torch.Size([4, 3])\n"
          ]
        }
      ]
    },
    {
      "cell_type": "markdown",
      "source": [
        "Broadcasting"
      ],
      "metadata": {
        "id": "OF5HlhihQVKk"
      }
    },
    {
      "cell_type": "code",
      "source": [
        "m1 = torch.FloatTensor([[3,3]]) #1*2\n",
        "m2 = torch.FloatTensor([[5,5]]) #1*2\n",
        "m3 = torch.FloatTensor([[2,3],[4,5]]) #2*2\n",
        "print(m1+m2)\n",
        "print(m1+m3)\n",
        "print(m2*m3)\n",
        "print(m3*m2)\n",
        "print(m3.mul(m2))\n",
        "m2_reshape = m2.reshape(2,1)\n",
        "print(m3.matmul(m2_reshape))\n",
        "print(m2.matmul(m3))"
      ],
      "metadata": {
        "colab": {
          "base_uri": "https://localhost:8080/"
        },
        "id": "ihCGi5bYQIqp",
        "outputId": "efafdaa4-3a46-401b-9633-5e25010aea26"
      },
      "execution_count": 16,
      "outputs": [
        {
          "output_type": "stream",
          "name": "stdout",
          "text": [
            "tensor([[8., 8.]])\n",
            "tensor([[5., 6.],\n",
            "        [7., 8.]])\n",
            "tensor([[10., 15.],\n",
            "        [20., 25.]])\n",
            "tensor([[10., 15.],\n",
            "        [20., 25.]])\n",
            "tensor([[10., 15.],\n",
            "        [20., 25.]])\n",
            "tensor([[25.],\n",
            "        [45.]])\n",
            "tensor([[30., 40.]])\n"
          ]
        }
      ]
    },
    {
      "cell_type": "markdown",
      "source": [
        "Mean, Sum"
      ],
      "metadata": {
        "id": "dtxyNVfpSYo4"
      }
    },
    {
      "cell_type": "code",
      "source": [
        "t = torch.FloatTensor([[1, 2], \n",
        "                       [3, 4]])\n",
        "print(t.mean()) #2.5000\n",
        "print(t.mean(dim=0)) #0(가로)성분 삭제 [2., 3.]\n",
        "print(t.mean(dim=1)) #1(세로)성분 삭제 [[1.5], [3.5]] -> [1.5, 3.5]"
      ],
      "metadata": {
        "colab": {
          "base_uri": "https://localhost:8080/"
        },
        "id": "1g2iB8ocQrfF",
        "outputId": "9978a48b-acc5-47b1-b86e-bef36ee918f1"
      },
      "execution_count": 17,
      "outputs": [
        {
          "output_type": "stream",
          "name": "stdout",
          "text": [
            "tensor(2.5000)\n",
            "tensor([2., 3.])\n",
            "tensor([1.5000, 3.5000])\n"
          ]
        }
      ]
    },
    {
      "cell_type": "code",
      "source": [
        "print(t.sum(dim=0))\n",
        "print(t.sum(dim=1))"
      ],
      "metadata": {
        "colab": {
          "base_uri": "https://localhost:8080/"
        },
        "id": "wY0rzoJZTj5r",
        "outputId": "31aef061-c3c7-4a57-9c07-b36d483ba487"
      },
      "execution_count": 18,
      "outputs": [
        {
          "output_type": "stream",
          "name": "stdout",
          "text": [
            "tensor([4., 6.])\n",
            "tensor([3., 7.])\n"
          ]
        }
      ]
    },
    {
      "cell_type": "markdown",
      "source": [
        "Max, Argmax"
      ],
      "metadata": {
        "id": "oT887cnjUKWB"
      }
    },
    {
      "cell_type": "code",
      "source": [
        "print(t.max())\n",
        "print(t.max(dim=0))\n",
        "print(t.max(dim=1))\n",
        "print(\"Max (dim=0):\",t.max(dim=0)[0])\n",
        "print(\"Argmax (dim=0):\",t.max(dim=0)[1])"
      ],
      "metadata": {
        "colab": {
          "base_uri": "https://localhost:8080/"
        },
        "id": "qBVRufrITnJa",
        "outputId": "5cdda601-de53-4044-f5a7-ccb9462bec73"
      },
      "execution_count": 22,
      "outputs": [
        {
          "output_type": "stream",
          "name": "stdout",
          "text": [
            "tensor(4.)\n",
            "torch.return_types.max(\n",
            "values=tensor([3., 4.]),\n",
            "indices=tensor([1, 1]))\n",
            "torch.return_types.max(\n",
            "values=tensor([2., 4.]),\n",
            "indices=tensor([1, 1]))\n",
            "Max (dim=0): tensor([3., 4.])\n",
            "Argmax (dim=0): tensor([1, 1])\n"
          ]
        }
      ]
    },
    {
      "cell_type": "markdown",
      "source": [
        "[View]\n",
        "\n",
        "원소의 수는 유지, 텐서의 Shape을 변경;\n",
        "\n",
        "numpy에서의 reshape와 동일"
      ],
      "metadata": {
        "id": "H3fxt_lKU1QU"
      }
    },
    {
      "cell_type": "code",
      "source": [
        "t = np.array([[[0, 1, 2],\n",
        "               [3, 4, 5]],\n",
        "              [[6, 7, 8],\n",
        "               [9, 10, 11]]])\n",
        "ft = torch.FloatTensor(t)\n",
        "print(ft.size())"
      ],
      "metadata": {
        "colab": {
          "base_uri": "https://localhost:8080/"
        },
        "id": "w4771z1oUSgH",
        "outputId": "c0365faf-082f-4032-cbbf-b113c1eba675"
      },
      "execution_count": 23,
      "outputs": [
        {
          "output_type": "stream",
          "name": "stdout",
          "text": [
            "torch.Size([2, 2, 3])\n"
          ]
        }
      ]
    },
    {
      "cell_type": "code",
      "source": [
        "# -1은 사용자가 모르겠으니 Pytorch보고 알아서 계산하라는 뜻\n",
        "print(ft.view([-1,3]))\n",
        "print(ft.view([-1,3]).size())\n",
        "# view는 Shape 변경 전과 후에서 원소의 개수가 유지시키는게 가능해야함."
      ],
      "metadata": {
        "colab": {
          "base_uri": "https://localhost:8080/"
        },
        "id": "UdXycCRMVZsd",
        "outputId": "77db4d05-4f44-43d9-c2a0-d6aa93e87420"
      },
      "execution_count": 26,
      "outputs": [
        {
          "output_type": "stream",
          "name": "stdout",
          "text": [
            "tensor([[ 0.,  1.,  2.],\n",
            "        [ 3.,  4.,  5.],\n",
            "        [ 6.,  7.,  8.],\n",
            "        [ 9., 10., 11.]])\n",
            "torch.Size([4, 3])\n"
          ]
        }
      ]
    },
    {
      "cell_type": "code",
      "source": [
        "print(ft.view([1,-1,3]))\n",
        "print(ft.view([-1,1,3]))"
      ],
      "metadata": {
        "colab": {
          "base_uri": "https://localhost:8080/"
        },
        "id": "GogCUBtKVhH0",
        "outputId": "6f6f013b-c4ff-4b71-92d2-b05d26b3af2c"
      },
      "execution_count": 28,
      "outputs": [
        {
          "output_type": "stream",
          "name": "stdout",
          "text": [
            "tensor([[[ 0.,  1.,  2.],\n",
            "         [ 3.,  4.,  5.],\n",
            "         [ 6.,  7.,  8.],\n",
            "         [ 9., 10., 11.]]])\n",
            "tensor([[[ 0.,  1.,  2.]],\n",
            "\n",
            "        [[ 3.,  4.,  5.]],\n",
            "\n",
            "        [[ 6.,  7.,  8.]],\n",
            "\n",
            "        [[ 9., 10., 11.]]])\n"
          ]
        }
      ]
    },
    {
      "cell_type": "markdown",
      "source": [
        "Squeeze, Unsqueeze\n",
        "\n",
        "Squeeze: 1인 차원을 제거\n",
        "Unsqueeze: 특정 위치에 1인 차원을 추가"
      ],
      "metadata": {
        "id": "DhNeOEn-WZb0"
      }
    },
    {
      "cell_type": "code",
      "source": [
        "ft = torch.FloatTensor([[0], [1], [2]])\n",
        "print(ft)\n",
        "print(ft.size()) # 3*1\n",
        "print(ft.squeeze()) # 3; [0, 1, 2]\n",
        "print(ft.squeeze().size())"
      ],
      "metadata": {
        "colab": {
          "base_uri": "https://localhost:8080/"
        },
        "id": "szNbveeOV8pM",
        "outputId": "6edde7c4-14e1-45e7-9c1d-bc8d188f2aa8"
      },
      "execution_count": 30,
      "outputs": [
        {
          "output_type": "stream",
          "name": "stdout",
          "text": [
            "tensor([[0.],\n",
            "        [1.],\n",
            "        [2.]])\n",
            "torch.Size([3, 1])\n",
            "tensor([0., 1., 2.])\n",
            "torch.Size([3])\n"
          ]
        }
      ]
    },
    {
      "cell_type": "code",
      "source": [
        "ft = torch.Tensor([0, 1, 2]) # 3,\n",
        "print(ft.shape)\n",
        "print(ft.unsqueeze(0)) # 1*3으로 강제 변형: [[0, 1, 2]]\n",
        "print(ft.unsqueeze(0).size())\n",
        "print(ft.unsqueeze(1)) # 3*1으로 강제 변형: [[0],[1],[2]]\n",
        "print(ft.unsqueeze(1).size())"
      ],
      "metadata": {
        "colab": {
          "base_uri": "https://localhost:8080/"
        },
        "id": "lywBqkRHW_Af",
        "outputId": "0dab1d0b-8942-4444-882d-4806e7c42794"
      },
      "execution_count": 32,
      "outputs": [
        {
          "output_type": "stream",
          "name": "stdout",
          "text": [
            "torch.Size([3])\n",
            "tensor([[0., 1., 2.]])\n",
            "torch.Size([1, 3])\n",
            "tensor([[0.],\n",
            "        [1.],\n",
            "        [2.]])\n",
            "torch.Size([3, 1])\n"
          ]
        }
      ]
    },
    {
      "cell_type": "markdown",
      "source": [
        "Type Casting\n",
        "\n",
        "32-bit floating point: *torch.float32 == torch.float* **torch.FloatTensor**\n",
        "\n",
        "64-bit floating point: *torch.float64 == torch.double* **torch.DoubleTensor**\n",
        "\n",
        "16-bit floating point: *torch.float16 == torch.half* **torch.HalfTensor**\n",
        "\n",
        "8-bit integer (unsigned): *torch.uint8* **torch.ByteTensor**\n",
        "\n",
        "8-bit integer (signed): *torch.int8* **torch.CharTensor**\n",
        "\n",
        "16-bit integer: *torch.int16 or torch.short* **torch.ShortTensor**\n",
        "\n",
        "32-bit integer: *torch.int32 or torch.int* **torch.IntTensor**\n",
        "\n",
        "64-bit integer: *torch.int64 or torch.long* **torch.LongTensor**"
      ],
      "metadata": {
        "id": "oAyvD67uZIsR"
      }
    },
    {
      "cell_type": "code",
      "source": [
        "lt = torch.LongTensor([1,2,3,4])\n",
        "print(lt)\n",
        "print(lt.float())\n",
        "\n",
        "bt = torch.ByteTensor([True, False, False, True])\n",
        "print(bt)\n",
        "print(bt.long())\n",
        "print(bt.float())"
      ],
      "metadata": {
        "colab": {
          "base_uri": "https://localhost:8080/"
        },
        "id": "mO3FKzAuXgjv",
        "outputId": "8c990356-bf37-428a-ea61-e82080e618a2"
      },
      "execution_count": 34,
      "outputs": [
        {
          "output_type": "stream",
          "name": "stdout",
          "text": [
            "tensor([1, 2, 3, 4])\n",
            "tensor([1., 2., 3., 4.])\n",
            "tensor([1, 0, 0, 1], dtype=torch.uint8)\n",
            "tensor([1, 0, 0, 1])\n",
            "tensor([1., 0., 0., 1.])\n"
          ]
        }
      ]
    },
    {
      "cell_type": "markdown",
      "source": [
        "Concatenating, Stacking"
      ],
      "metadata": {
        "id": "qfo38frOZKYE"
      }
    },
    {
      "cell_type": "code",
      "source": [
        "x = torch.FloatTensor([[1.,2.],[3.,4.]])\n",
        "y = torch.FloatTensor([[5.,6.],[7.,8.]])\n",
        "print(torch.cat([x,y], dim=0)) # 여기서 dim은 어디로 \"늘릴까\"를 의미한다. (예외적)\n",
        "print(torch.cat([x,y], dim=1))"
      ],
      "metadata": {
        "colab": {
          "base_uri": "https://localhost:8080/"
        },
        "id": "-zmzX8yIZLOn",
        "outputId": "15ed9bf3-0f71-4be3-c30e-ce2065f262ac"
      },
      "execution_count": 35,
      "outputs": [
        {
          "output_type": "stream",
          "name": "stdout",
          "text": [
            "tensor([[1., 2.],\n",
            "        [3., 4.],\n",
            "        [5., 6.],\n",
            "        [7., 8.]])\n",
            "tensor([[1., 2., 5., 6.],\n",
            "        [3., 4., 7., 8.]])\n"
          ]
        }
      ]
    },
    {
      "cell_type": "code",
      "source": [
        "x = torch.FloatTensor([1,2]) #2,\n",
        "y = torch.FloatTensor([3,4]) #2,\n",
        "z = torch.FloatTensor([5,6]) #2,\n",
        "\n",
        "print(torch.cat([x.unsqueeze(0), y.unsqueeze(0), z.unsqueeze(0)], dim=0))\n",
        "print(torch.stack([x,y,z]))\n",
        "print(torch.stack([x,y,z], dim=0))\n",
        "print(torch.stack([x,y,z], dim=1))"
      ],
      "metadata": {
        "colab": {
          "base_uri": "https://localhost:8080/"
        },
        "id": "XQVv9mASb9Mx",
        "outputId": "3301a58f-69b1-4e8f-eb34-2e42bc807a19"
      },
      "execution_count": 42,
      "outputs": [
        {
          "output_type": "stream",
          "name": "stdout",
          "text": [
            "tensor([[1., 2.],\n",
            "        [3., 4.],\n",
            "        [5., 6.]])\n",
            "tensor([[1., 2.],\n",
            "        [3., 4.],\n",
            "        [5., 6.]])\n",
            "tensor([[1., 2.],\n",
            "        [3., 4.],\n",
            "        [5., 6.]])\n",
            "tensor([[1., 3., 5.],\n",
            "        [2., 4., 6.]])\n"
          ]
        }
      ]
    },
    {
      "cell_type": "code",
      "source": [
        "x = torch.FloatTensor([[1.,2.],[3.,4.]])\n",
        "y = torch.FloatTensor([[5.,6.],[7.,8.]])\n",
        "print(torch.cat([x,y], dim=0)) # 2*2 2개 => 4*2\n",
        "print(torch.cat([x.unsqueeze(0), y.unsqueeze(0)], dim=0)) # 2*2 2개 => 2*2*2\n",
        "print(torch.stack([x,y])) # 2*2 2개 => 2*2*2"
      ],
      "metadata": {
        "colab": {
          "base_uri": "https://localhost:8080/"
        },
        "id": "KSD1g5XrcTki",
        "outputId": "2e42d808-e55a-4752-a5eb-cc107e4ef18a"
      },
      "execution_count": 46,
      "outputs": [
        {
          "output_type": "stream",
          "name": "stdout",
          "text": [
            "tensor([[1., 2.],\n",
            "        [3., 4.],\n",
            "        [5., 6.],\n",
            "        [7., 8.]])\n",
            "tensor([[[1., 2.],\n",
            "         [3., 4.]],\n",
            "\n",
            "        [[5., 6.],\n",
            "         [7., 8.]]])\n",
            "tensor([[[1., 2.],\n",
            "         [3., 4.]],\n",
            "\n",
            "        [[5., 6.],\n",
            "         [7., 8.]]])\n"
          ]
        }
      ]
    },
    {
      "cell_type": "markdown",
      "source": [
        "ones_like, zeors_like\n",
        "\n",
        "모양은 같지만 채워지는 원소가 0 또는 1로만 구성"
      ],
      "metadata": {
        "id": "hU3awfIxebvr"
      }
    },
    {
      "cell_type": "code",
      "source": [
        "x = torch.FloatTensor([[0,1,2], [3,4,5]]) # 2*3\n",
        "print(x)\n",
        "print(torch.ones_like(x))\n",
        "print(torch.zeros_like(x))"
      ],
      "metadata": {
        "colab": {
          "base_uri": "https://localhost:8080/"
        },
        "id": "w5nPYt7-dO9s",
        "outputId": "2431752c-1bd8-477d-9b46-8d393d3cf70a"
      },
      "execution_count": 49,
      "outputs": [
        {
          "output_type": "stream",
          "name": "stdout",
          "text": [
            "tensor([[0., 1., 2.],\n",
            "        [3., 4., 5.]])\n",
            "tensor([[1., 1., 1.],\n",
            "        [1., 1., 1.]])\n",
            "tensor([[0., 0., 0.],\n",
            "        [0., 0., 0.]])\n"
          ]
        }
      ]
    },
    {
      "cell_type": "markdown",
      "source": [
        "In-place Operation\n",
        "\n",
        "곱셈연산 뒤에 _(under score)를 붙이면 기존의 값을 덮어쓴다."
      ],
      "metadata": {
        "id": "q8ZkQA8MfKd4"
      }
    },
    {
      "cell_type": "code",
      "source": [
        "x = torch.FloatTensor([[1., 2.], [3., 4.]])\n",
        "\n",
        "print(x.mul(2.))\n",
        "print(x)\n",
        "\n",
        "print(x.mul_(2.))\n",
        "print(x)"
      ],
      "metadata": {
        "colab": {
          "base_uri": "https://localhost:8080/"
        },
        "id": "mMKUjfVIeq1Q",
        "outputId": "955a4ca4-4415-4561-d9b4-cb27c4a98754"
      },
      "execution_count": 50,
      "outputs": [
        {
          "output_type": "stream",
          "name": "stdout",
          "text": [
            "tensor([[2., 4.],\n",
            "        [6., 8.]])\n",
            "tensor([[1., 2.],\n",
            "        [3., 4.]])\n",
            "tensor([[2., 4.],\n",
            "        [6., 8.]])\n",
            "tensor([[2., 4.],\n",
            "        [6., 8.]])\n"
          ]
        }
      ]
    },
    {
      "cell_type": "markdown",
      "source": [
        "Python Class"
      ],
      "metadata": {
        "id": "GFqJ1K2ffvQB"
      }
    },
    {
      "cell_type": "code",
      "source": [
        "# 함수로 덧셈기 구현하기\n",
        "result = 0\n",
        "def add(num):\n",
        "  global result #기존 전역변수를 가져다 사용\n",
        "  result += num\n",
        "  return result\n",
        "\n",
        "print(add(3))\n",
        "print(add(4))"
      ],
      "metadata": {
        "colab": {
          "base_uri": "https://localhost:8080/"
        },
        "id": "WUsOFz4xfbNo",
        "outputId": "4d0d81b9-8db1-47a3-d906-d1869d679e66"
      },
      "execution_count": 53,
      "outputs": [
        {
          "output_type": "stream",
          "name": "stdout",
          "text": [
            "3\n",
            "7\n"
          ]
        }
      ]
    },
    {
      "cell_type": "code",
      "source": [
        "# 함수로 두개의 덧셈기 구현하기\n",
        "result1 = 0\n",
        "result2 = 0\n",
        "\n",
        "def add1(num):\n",
        "  global result1\n",
        "  result1 += num\n",
        "  return result1\n",
        "\n",
        "def add2(num):\n",
        "  global result2\n",
        "  result2 += num\n",
        "  return result2\n",
        "\n",
        "print(add1(3))\n",
        "print(add1(4))\n",
        "print(add2(3))\n",
        "print(add2(7))"
      ],
      "metadata": {
        "colab": {
          "base_uri": "https://localhost:8080/"
        },
        "id": "x00Vk2uNg5BJ",
        "outputId": "b1653d85-b481-49c9-d301-ba01ee3c8dc4"
      },
      "execution_count": 55,
      "outputs": [
        {
          "output_type": "stream",
          "name": "stdout",
          "text": [
            "3\n",
            "7\n",
            "3\n",
            "10\n"
          ]
        }
      ]
    },
    {
      "cell_type": "code",
      "source": [
        "#클래스로 편안하게 다수의 계산기 구현하기\n",
        "class Calculator:\n",
        "  def __init__(self):\n",
        "    self.result = 0\n",
        "\n",
        "  def add(self, num):\n",
        "    self.result += num\n",
        "    return self.result\n",
        "  \n",
        "  def sub(self, num):\n",
        "    self.result -= num\n",
        "    return self.result\n",
        "\n",
        "c1 = Calculator()\n",
        "c2 = Calculator()\n",
        "\n",
        "print(c1.add(3))\n",
        "print(c1.add(4))\n",
        "\n",
        "print(c2.add(3))\n",
        "print(c2.add(7))"
      ],
      "metadata": {
        "colab": {
          "base_uri": "https://localhost:8080/"
        },
        "id": "_2vpFA1PhgDR",
        "outputId": "9976ab55-b6ed-499e-f15b-e063dcee717e"
      },
      "execution_count": 57,
      "outputs": [
        {
          "output_type": "stream",
          "name": "stdout",
          "text": [
            "3\n",
            "7\n",
            "3\n",
            "10\n"
          ]
        }
      ]
    },
    {
      "cell_type": "code",
      "source": [
        ""
      ],
      "metadata": {
        "id": "WJkrntMkiEMz"
      },
      "execution_count": null,
      "outputs": []
    }
  ]
}