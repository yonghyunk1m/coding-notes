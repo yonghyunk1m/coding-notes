{
  "nbformat": 4,
  "nbformat_minor": 0,
  "metadata": {
    "colab": {
      "name": "PyTorch.ipynb",
      "provenance": [],
      "collapsed_sections": [],
      "authorship_tag": "ABX9TyMhtEFYc5DU1dlsLdvWwMOY",
      "include_colab_link": true
    },
    "kernelspec": {
      "name": "python3",
      "display_name": "Python 3"
    },
    "language_info": {
      "name": "python"
    },
    "accelerator": "GPU",
    "widgets": {
      "application/vnd.jupyter.widget-state+json": {
        "8120cdcb712f4fb38922d0216fe9157a": {
          "model_module": "@jupyter-widgets/controls",
          "model_name": "HBoxModel",
          "model_module_version": "1.5.0",
          "state": {
            "_view_name": "HBoxView",
            "_dom_classes": [],
            "_model_name": "HBoxModel",
            "_view_module": "@jupyter-widgets/controls",
            "_model_module_version": "1.5.0",
            "_view_count": null,
            "_view_module_version": "1.5.0",
            "box_style": "",
            "layout": "IPY_MODEL_6ca7927da2484d48bbfbfa17fd7a610b",
            "_model_module": "@jupyter-widgets/controls",
            "children": [
              "IPY_MODEL_d4226a54fe5046499199573d65196159",
              "IPY_MODEL_55ca827a0bcd4b64b5add55a7d651d88",
              "IPY_MODEL_3e8645f8d678447183181d80b24ae350"
            ]
          }
        },
        "6ca7927da2484d48bbfbfa17fd7a610b": {
          "model_module": "@jupyter-widgets/base",
          "model_name": "LayoutModel",
          "model_module_version": "1.2.0",
          "state": {
            "_view_name": "LayoutView",
            "grid_template_rows": null,
            "right": null,
            "justify_content": null,
            "_view_module": "@jupyter-widgets/base",
            "overflow": null,
            "_model_module_version": "1.2.0",
            "_view_count": null,
            "flex_flow": null,
            "width": null,
            "min_width": null,
            "border": null,
            "align_items": null,
            "bottom": null,
            "_model_module": "@jupyter-widgets/base",
            "top": null,
            "grid_column": null,
            "overflow_y": null,
            "overflow_x": null,
            "grid_auto_flow": null,
            "grid_area": null,
            "grid_template_columns": null,
            "flex": null,
            "_model_name": "LayoutModel",
            "justify_items": null,
            "grid_row": null,
            "max_height": null,
            "align_content": null,
            "visibility": null,
            "align_self": null,
            "height": null,
            "min_height": null,
            "padding": null,
            "grid_auto_rows": null,
            "grid_gap": null,
            "max_width": null,
            "order": null,
            "_view_module_version": "1.2.0",
            "grid_template_areas": null,
            "object_position": null,
            "object_fit": null,
            "grid_auto_columns": null,
            "margin": null,
            "display": null,
            "left": null
          }
        },
        "d4226a54fe5046499199573d65196159": {
          "model_module": "@jupyter-widgets/controls",
          "model_name": "HTMLModel",
          "model_module_version": "1.5.0",
          "state": {
            "_view_name": "HTMLView",
            "style": "IPY_MODEL_c72a09314e424e2a8484a36fb17088f1",
            "_dom_classes": [],
            "description": "",
            "_model_name": "HTMLModel",
            "placeholder": "​",
            "_view_module": "@jupyter-widgets/controls",
            "_model_module_version": "1.5.0",
            "value": "",
            "_view_count": null,
            "_view_module_version": "1.5.0",
            "description_tooltip": null,
            "_model_module": "@jupyter-widgets/controls",
            "layout": "IPY_MODEL_d8576de45ca74c5ab8708052962a31cd"
          }
        },
        "55ca827a0bcd4b64b5add55a7d651d88": {
          "model_module": "@jupyter-widgets/controls",
          "model_name": "FloatProgressModel",
          "model_module_version": "1.5.0",
          "state": {
            "_view_name": "ProgressView",
            "style": "IPY_MODEL_12c094e8c9e2437f8f945e7794d6f497",
            "_dom_classes": [],
            "description": "",
            "_model_name": "FloatProgressModel",
            "bar_style": "success",
            "max": 9912422,
            "_view_module": "@jupyter-widgets/controls",
            "_model_module_version": "1.5.0",
            "value": 9912422,
            "_view_count": null,
            "_view_module_version": "1.5.0",
            "orientation": "horizontal",
            "min": 0,
            "description_tooltip": null,
            "_model_module": "@jupyter-widgets/controls",
            "layout": "IPY_MODEL_c9bfc6f081184abd8d860d386a7ab694"
          }
        },
        "3e8645f8d678447183181d80b24ae350": {
          "model_module": "@jupyter-widgets/controls",
          "model_name": "HTMLModel",
          "model_module_version": "1.5.0",
          "state": {
            "_view_name": "HTMLView",
            "style": "IPY_MODEL_a82000cfb36642539ffe6e4cfff52927",
            "_dom_classes": [],
            "description": "",
            "_model_name": "HTMLModel",
            "placeholder": "​",
            "_view_module": "@jupyter-widgets/controls",
            "_model_module_version": "1.5.0",
            "value": " 9913344/? [00:00&lt;00:00, 23099278.57it/s]",
            "_view_count": null,
            "_view_module_version": "1.5.0",
            "description_tooltip": null,
            "_model_module": "@jupyter-widgets/controls",
            "layout": "IPY_MODEL_e9350a047663478ca04ed208e475175f"
          }
        },
        "c72a09314e424e2a8484a36fb17088f1": {
          "model_module": "@jupyter-widgets/controls",
          "model_name": "DescriptionStyleModel",
          "model_module_version": "1.5.0",
          "state": {
            "_view_name": "StyleView",
            "_model_name": "DescriptionStyleModel",
            "description_width": "",
            "_view_module": "@jupyter-widgets/base",
            "_model_module_version": "1.5.0",
            "_view_count": null,
            "_view_module_version": "1.2.0",
            "_model_module": "@jupyter-widgets/controls"
          }
        },
        "d8576de45ca74c5ab8708052962a31cd": {
          "model_module": "@jupyter-widgets/base",
          "model_name": "LayoutModel",
          "model_module_version": "1.2.0",
          "state": {
            "_view_name": "LayoutView",
            "grid_template_rows": null,
            "right": null,
            "justify_content": null,
            "_view_module": "@jupyter-widgets/base",
            "overflow": null,
            "_model_module_version": "1.2.0",
            "_view_count": null,
            "flex_flow": null,
            "width": null,
            "min_width": null,
            "border": null,
            "align_items": null,
            "bottom": null,
            "_model_module": "@jupyter-widgets/base",
            "top": null,
            "grid_column": null,
            "overflow_y": null,
            "overflow_x": null,
            "grid_auto_flow": null,
            "grid_area": null,
            "grid_template_columns": null,
            "flex": null,
            "_model_name": "LayoutModel",
            "justify_items": null,
            "grid_row": null,
            "max_height": null,
            "align_content": null,
            "visibility": null,
            "align_self": null,
            "height": null,
            "min_height": null,
            "padding": null,
            "grid_auto_rows": null,
            "grid_gap": null,
            "max_width": null,
            "order": null,
            "_view_module_version": "1.2.0",
            "grid_template_areas": null,
            "object_position": null,
            "object_fit": null,
            "grid_auto_columns": null,
            "margin": null,
            "display": null,
            "left": null
          }
        },
        "12c094e8c9e2437f8f945e7794d6f497": {
          "model_module": "@jupyter-widgets/controls",
          "model_name": "ProgressStyleModel",
          "model_module_version": "1.5.0",
          "state": {
            "_view_name": "StyleView",
            "_model_name": "ProgressStyleModel",
            "description_width": "",
            "_view_module": "@jupyter-widgets/base",
            "_model_module_version": "1.5.0",
            "_view_count": null,
            "_view_module_version": "1.2.0",
            "bar_color": null,
            "_model_module": "@jupyter-widgets/controls"
          }
        },
        "c9bfc6f081184abd8d860d386a7ab694": {
          "model_module": "@jupyter-widgets/base",
          "model_name": "LayoutModel",
          "model_module_version": "1.2.0",
          "state": {
            "_view_name": "LayoutView",
            "grid_template_rows": null,
            "right": null,
            "justify_content": null,
            "_view_module": "@jupyter-widgets/base",
            "overflow": null,
            "_model_module_version": "1.2.0",
            "_view_count": null,
            "flex_flow": null,
            "width": null,
            "min_width": null,
            "border": null,
            "align_items": null,
            "bottom": null,
            "_model_module": "@jupyter-widgets/base",
            "top": null,
            "grid_column": null,
            "overflow_y": null,
            "overflow_x": null,
            "grid_auto_flow": null,
            "grid_area": null,
            "grid_template_columns": null,
            "flex": null,
            "_model_name": "LayoutModel",
            "justify_items": null,
            "grid_row": null,
            "max_height": null,
            "align_content": null,
            "visibility": null,
            "align_self": null,
            "height": null,
            "min_height": null,
            "padding": null,
            "grid_auto_rows": null,
            "grid_gap": null,
            "max_width": null,
            "order": null,
            "_view_module_version": "1.2.0",
            "grid_template_areas": null,
            "object_position": null,
            "object_fit": null,
            "grid_auto_columns": null,
            "margin": null,
            "display": null,
            "left": null
          }
        },
        "a82000cfb36642539ffe6e4cfff52927": {
          "model_module": "@jupyter-widgets/controls",
          "model_name": "DescriptionStyleModel",
          "model_module_version": "1.5.0",
          "state": {
            "_view_name": "StyleView",
            "_model_name": "DescriptionStyleModel",
            "description_width": "",
            "_view_module": "@jupyter-widgets/base",
            "_model_module_version": "1.5.0",
            "_view_count": null,
            "_view_module_version": "1.2.0",
            "_model_module": "@jupyter-widgets/controls"
          }
        },
        "e9350a047663478ca04ed208e475175f": {
          "model_module": "@jupyter-widgets/base",
          "model_name": "LayoutModel",
          "model_module_version": "1.2.0",
          "state": {
            "_view_name": "LayoutView",
            "grid_template_rows": null,
            "right": null,
            "justify_content": null,
            "_view_module": "@jupyter-widgets/base",
            "overflow": null,
            "_model_module_version": "1.2.0",
            "_view_count": null,
            "flex_flow": null,
            "width": null,
            "min_width": null,
            "border": null,
            "align_items": null,
            "bottom": null,
            "_model_module": "@jupyter-widgets/base",
            "top": null,
            "grid_column": null,
            "overflow_y": null,
            "overflow_x": null,
            "grid_auto_flow": null,
            "grid_area": null,
            "grid_template_columns": null,
            "flex": null,
            "_model_name": "LayoutModel",
            "justify_items": null,
            "grid_row": null,
            "max_height": null,
            "align_content": null,
            "visibility": null,
            "align_self": null,
            "height": null,
            "min_height": null,
            "padding": null,
            "grid_auto_rows": null,
            "grid_gap": null,
            "max_width": null,
            "order": null,
            "_view_module_version": "1.2.0",
            "grid_template_areas": null,
            "object_position": null,
            "object_fit": null,
            "grid_auto_columns": null,
            "margin": null,
            "display": null,
            "left": null
          }
        },
        "1ab6803a27a54f53a2bd422a7d0f7ddd": {
          "model_module": "@jupyter-widgets/controls",
          "model_name": "HBoxModel",
          "model_module_version": "1.5.0",
          "state": {
            "_view_name": "HBoxView",
            "_dom_classes": [],
            "_model_name": "HBoxModel",
            "_view_module": "@jupyter-widgets/controls",
            "_model_module_version": "1.5.0",
            "_view_count": null,
            "_view_module_version": "1.5.0",
            "box_style": "",
            "layout": "IPY_MODEL_0793dc7f61314787b89ea9219c77d38f",
            "_model_module": "@jupyter-widgets/controls",
            "children": [
              "IPY_MODEL_23bbb078122e4b129163a26a7e6c37b9",
              "IPY_MODEL_947537bba21e40f6b571418f1cb575a5",
              "IPY_MODEL_327fe619e6014a038a54402010329f48"
            ]
          }
        },
        "0793dc7f61314787b89ea9219c77d38f": {
          "model_module": "@jupyter-widgets/base",
          "model_name": "LayoutModel",
          "model_module_version": "1.2.0",
          "state": {
            "_view_name": "LayoutView",
            "grid_template_rows": null,
            "right": null,
            "justify_content": null,
            "_view_module": "@jupyter-widgets/base",
            "overflow": null,
            "_model_module_version": "1.2.0",
            "_view_count": null,
            "flex_flow": null,
            "width": null,
            "min_width": null,
            "border": null,
            "align_items": null,
            "bottom": null,
            "_model_module": "@jupyter-widgets/base",
            "top": null,
            "grid_column": null,
            "overflow_y": null,
            "overflow_x": null,
            "grid_auto_flow": null,
            "grid_area": null,
            "grid_template_columns": null,
            "flex": null,
            "_model_name": "LayoutModel",
            "justify_items": null,
            "grid_row": null,
            "max_height": null,
            "align_content": null,
            "visibility": null,
            "align_self": null,
            "height": null,
            "min_height": null,
            "padding": null,
            "grid_auto_rows": null,
            "grid_gap": null,
            "max_width": null,
            "order": null,
            "_view_module_version": "1.2.0",
            "grid_template_areas": null,
            "object_position": null,
            "object_fit": null,
            "grid_auto_columns": null,
            "margin": null,
            "display": null,
            "left": null
          }
        },
        "23bbb078122e4b129163a26a7e6c37b9": {
          "model_module": "@jupyter-widgets/controls",
          "model_name": "HTMLModel",
          "model_module_version": "1.5.0",
          "state": {
            "_view_name": "HTMLView",
            "style": "IPY_MODEL_bfb2082cbf02495b952a35d6a662359c",
            "_dom_classes": [],
            "description": "",
            "_model_name": "HTMLModel",
            "placeholder": "​",
            "_view_module": "@jupyter-widgets/controls",
            "_model_module_version": "1.5.0",
            "value": "",
            "_view_count": null,
            "_view_module_version": "1.5.0",
            "description_tooltip": null,
            "_model_module": "@jupyter-widgets/controls",
            "layout": "IPY_MODEL_671b2abd1e764781af3edf4de857968d"
          }
        },
        "947537bba21e40f6b571418f1cb575a5": {
          "model_module": "@jupyter-widgets/controls",
          "model_name": "FloatProgressModel",
          "model_module_version": "1.5.0",
          "state": {
            "_view_name": "ProgressView",
            "style": "IPY_MODEL_fefa637caa90400486df7e6885a03a9d",
            "_dom_classes": [],
            "description": "",
            "_model_name": "FloatProgressModel",
            "bar_style": "success",
            "max": 28881,
            "_view_module": "@jupyter-widgets/controls",
            "_model_module_version": "1.5.0",
            "value": 28881,
            "_view_count": null,
            "_view_module_version": "1.5.0",
            "orientation": "horizontal",
            "min": 0,
            "description_tooltip": null,
            "_model_module": "@jupyter-widgets/controls",
            "layout": "IPY_MODEL_6de63cb7468e4b56a45558f00f381079"
          }
        },
        "327fe619e6014a038a54402010329f48": {
          "model_module": "@jupyter-widgets/controls",
          "model_name": "HTMLModel",
          "model_module_version": "1.5.0",
          "state": {
            "_view_name": "HTMLView",
            "style": "IPY_MODEL_f758237839154c9f889d44490a2d1d28",
            "_dom_classes": [],
            "description": "",
            "_model_name": "HTMLModel",
            "placeholder": "​",
            "_view_module": "@jupyter-widgets/controls",
            "_model_module_version": "1.5.0",
            "value": " 29696/? [00:00&lt;00:00, 748742.43it/s]",
            "_view_count": null,
            "_view_module_version": "1.5.0",
            "description_tooltip": null,
            "_model_module": "@jupyter-widgets/controls",
            "layout": "IPY_MODEL_87cbe4fb96b247fd93321d89136604ef"
          }
        },
        "bfb2082cbf02495b952a35d6a662359c": {
          "model_module": "@jupyter-widgets/controls",
          "model_name": "DescriptionStyleModel",
          "model_module_version": "1.5.0",
          "state": {
            "_view_name": "StyleView",
            "_model_name": "DescriptionStyleModel",
            "description_width": "",
            "_view_module": "@jupyter-widgets/base",
            "_model_module_version": "1.5.0",
            "_view_count": null,
            "_view_module_version": "1.2.0",
            "_model_module": "@jupyter-widgets/controls"
          }
        },
        "671b2abd1e764781af3edf4de857968d": {
          "model_module": "@jupyter-widgets/base",
          "model_name": "LayoutModel",
          "model_module_version": "1.2.0",
          "state": {
            "_view_name": "LayoutView",
            "grid_template_rows": null,
            "right": null,
            "justify_content": null,
            "_view_module": "@jupyter-widgets/base",
            "overflow": null,
            "_model_module_version": "1.2.0",
            "_view_count": null,
            "flex_flow": null,
            "width": null,
            "min_width": null,
            "border": null,
            "align_items": null,
            "bottom": null,
            "_model_module": "@jupyter-widgets/base",
            "top": null,
            "grid_column": null,
            "overflow_y": null,
            "overflow_x": null,
            "grid_auto_flow": null,
            "grid_area": null,
            "grid_template_columns": null,
            "flex": null,
            "_model_name": "LayoutModel",
            "justify_items": null,
            "grid_row": null,
            "max_height": null,
            "align_content": null,
            "visibility": null,
            "align_self": null,
            "height": null,
            "min_height": null,
            "padding": null,
            "grid_auto_rows": null,
            "grid_gap": null,
            "max_width": null,
            "order": null,
            "_view_module_version": "1.2.0",
            "grid_template_areas": null,
            "object_position": null,
            "object_fit": null,
            "grid_auto_columns": null,
            "margin": null,
            "display": null,
            "left": null
          }
        },
        "fefa637caa90400486df7e6885a03a9d": {
          "model_module": "@jupyter-widgets/controls",
          "model_name": "ProgressStyleModel",
          "model_module_version": "1.5.0",
          "state": {
            "_view_name": "StyleView",
            "_model_name": "ProgressStyleModel",
            "description_width": "",
            "_view_module": "@jupyter-widgets/base",
            "_model_module_version": "1.5.0",
            "_view_count": null,
            "_view_module_version": "1.2.0",
            "bar_color": null,
            "_model_module": "@jupyter-widgets/controls"
          }
        },
        "6de63cb7468e4b56a45558f00f381079": {
          "model_module": "@jupyter-widgets/base",
          "model_name": "LayoutModel",
          "model_module_version": "1.2.0",
          "state": {
            "_view_name": "LayoutView",
            "grid_template_rows": null,
            "right": null,
            "justify_content": null,
            "_view_module": "@jupyter-widgets/base",
            "overflow": null,
            "_model_module_version": "1.2.0",
            "_view_count": null,
            "flex_flow": null,
            "width": null,
            "min_width": null,
            "border": null,
            "align_items": null,
            "bottom": null,
            "_model_module": "@jupyter-widgets/base",
            "top": null,
            "grid_column": null,
            "overflow_y": null,
            "overflow_x": null,
            "grid_auto_flow": null,
            "grid_area": null,
            "grid_template_columns": null,
            "flex": null,
            "_model_name": "LayoutModel",
            "justify_items": null,
            "grid_row": null,
            "max_height": null,
            "align_content": null,
            "visibility": null,
            "align_self": null,
            "height": null,
            "min_height": null,
            "padding": null,
            "grid_auto_rows": null,
            "grid_gap": null,
            "max_width": null,
            "order": null,
            "_view_module_version": "1.2.0",
            "grid_template_areas": null,
            "object_position": null,
            "object_fit": null,
            "grid_auto_columns": null,
            "margin": null,
            "display": null,
            "left": null
          }
        },
        "f758237839154c9f889d44490a2d1d28": {
          "model_module": "@jupyter-widgets/controls",
          "model_name": "DescriptionStyleModel",
          "model_module_version": "1.5.0",
          "state": {
            "_view_name": "StyleView",
            "_model_name": "DescriptionStyleModel",
            "description_width": "",
            "_view_module": "@jupyter-widgets/base",
            "_model_module_version": "1.5.0",
            "_view_count": null,
            "_view_module_version": "1.2.0",
            "_model_module": "@jupyter-widgets/controls"
          }
        },
        "87cbe4fb96b247fd93321d89136604ef": {
          "model_module": "@jupyter-widgets/base",
          "model_name": "LayoutModel",
          "model_module_version": "1.2.0",
          "state": {
            "_view_name": "LayoutView",
            "grid_template_rows": null,
            "right": null,
            "justify_content": null,
            "_view_module": "@jupyter-widgets/base",
            "overflow": null,
            "_model_module_version": "1.2.0",
            "_view_count": null,
            "flex_flow": null,
            "width": null,
            "min_width": null,
            "border": null,
            "align_items": null,
            "bottom": null,
            "_model_module": "@jupyter-widgets/base",
            "top": null,
            "grid_column": null,
            "overflow_y": null,
            "overflow_x": null,
            "grid_auto_flow": null,
            "grid_area": null,
            "grid_template_columns": null,
            "flex": null,
            "_model_name": "LayoutModel",
            "justify_items": null,
            "grid_row": null,
            "max_height": null,
            "align_content": null,
            "visibility": null,
            "align_self": null,
            "height": null,
            "min_height": null,
            "padding": null,
            "grid_auto_rows": null,
            "grid_gap": null,
            "max_width": null,
            "order": null,
            "_view_module_version": "1.2.0",
            "grid_template_areas": null,
            "object_position": null,
            "object_fit": null,
            "grid_auto_columns": null,
            "margin": null,
            "display": null,
            "left": null
          }
        },
        "31e22d8d837a45748da9cabfc66bff83": {
          "model_module": "@jupyter-widgets/controls",
          "model_name": "HBoxModel",
          "model_module_version": "1.5.0",
          "state": {
            "_view_name": "HBoxView",
            "_dom_classes": [],
            "_model_name": "HBoxModel",
            "_view_module": "@jupyter-widgets/controls",
            "_model_module_version": "1.5.0",
            "_view_count": null,
            "_view_module_version": "1.5.0",
            "box_style": "",
            "layout": "IPY_MODEL_02525345f0204ef888c9979b332d5860",
            "_model_module": "@jupyter-widgets/controls",
            "children": [
              "IPY_MODEL_4128d021e2dd4ba6aedb318ab983e0e3",
              "IPY_MODEL_098fd0ff3b944b6d81bcba4587baac69",
              "IPY_MODEL_ea54ddb01c894f1bb05413b55aeb1e2f"
            ]
          }
        },
        "02525345f0204ef888c9979b332d5860": {
          "model_module": "@jupyter-widgets/base",
          "model_name": "LayoutModel",
          "model_module_version": "1.2.0",
          "state": {
            "_view_name": "LayoutView",
            "grid_template_rows": null,
            "right": null,
            "justify_content": null,
            "_view_module": "@jupyter-widgets/base",
            "overflow": null,
            "_model_module_version": "1.2.0",
            "_view_count": null,
            "flex_flow": null,
            "width": null,
            "min_width": null,
            "border": null,
            "align_items": null,
            "bottom": null,
            "_model_module": "@jupyter-widgets/base",
            "top": null,
            "grid_column": null,
            "overflow_y": null,
            "overflow_x": null,
            "grid_auto_flow": null,
            "grid_area": null,
            "grid_template_columns": null,
            "flex": null,
            "_model_name": "LayoutModel",
            "justify_items": null,
            "grid_row": null,
            "max_height": null,
            "align_content": null,
            "visibility": null,
            "align_self": null,
            "height": null,
            "min_height": null,
            "padding": null,
            "grid_auto_rows": null,
            "grid_gap": null,
            "max_width": null,
            "order": null,
            "_view_module_version": "1.2.0",
            "grid_template_areas": null,
            "object_position": null,
            "object_fit": null,
            "grid_auto_columns": null,
            "margin": null,
            "display": null,
            "left": null
          }
        },
        "4128d021e2dd4ba6aedb318ab983e0e3": {
          "model_module": "@jupyter-widgets/controls",
          "model_name": "HTMLModel",
          "model_module_version": "1.5.0",
          "state": {
            "_view_name": "HTMLView",
            "style": "IPY_MODEL_e090d60dd511473aba4d1de8e3efe351",
            "_dom_classes": [],
            "description": "",
            "_model_name": "HTMLModel",
            "placeholder": "​",
            "_view_module": "@jupyter-widgets/controls",
            "_model_module_version": "1.5.0",
            "value": "",
            "_view_count": null,
            "_view_module_version": "1.5.0",
            "description_tooltip": null,
            "_model_module": "@jupyter-widgets/controls",
            "layout": "IPY_MODEL_2f3b31ab1b104e2292f8e4bf9a251f2f"
          }
        },
        "098fd0ff3b944b6d81bcba4587baac69": {
          "model_module": "@jupyter-widgets/controls",
          "model_name": "FloatProgressModel",
          "model_module_version": "1.5.0",
          "state": {
            "_view_name": "ProgressView",
            "style": "IPY_MODEL_a67bc6688f5a44c6bbde3680d1dfb99d",
            "_dom_classes": [],
            "description": "",
            "_model_name": "FloatProgressModel",
            "bar_style": "success",
            "max": 1648877,
            "_view_module": "@jupyter-widgets/controls",
            "_model_module_version": "1.5.0",
            "value": 1648877,
            "_view_count": null,
            "_view_module_version": "1.5.0",
            "orientation": "horizontal",
            "min": 0,
            "description_tooltip": null,
            "_model_module": "@jupyter-widgets/controls",
            "layout": "IPY_MODEL_84d6150619da4bacbc79467627f430f2"
          }
        },
        "ea54ddb01c894f1bb05413b55aeb1e2f": {
          "model_module": "@jupyter-widgets/controls",
          "model_name": "HTMLModel",
          "model_module_version": "1.5.0",
          "state": {
            "_view_name": "HTMLView",
            "style": "IPY_MODEL_032f4382634a450e8d10a0e4dbfc355e",
            "_dom_classes": [],
            "description": "",
            "_model_name": "HTMLModel",
            "placeholder": "​",
            "_view_module": "@jupyter-widgets/controls",
            "_model_module_version": "1.5.0",
            "value": " 1649664/? [00:00&lt;00:00, 4095750.02it/s]",
            "_view_count": null,
            "_view_module_version": "1.5.0",
            "description_tooltip": null,
            "_model_module": "@jupyter-widgets/controls",
            "layout": "IPY_MODEL_de51dfa6ae6c4c1e9514e8042f494f54"
          }
        },
        "e090d60dd511473aba4d1de8e3efe351": {
          "model_module": "@jupyter-widgets/controls",
          "model_name": "DescriptionStyleModel",
          "model_module_version": "1.5.0",
          "state": {
            "_view_name": "StyleView",
            "_model_name": "DescriptionStyleModel",
            "description_width": "",
            "_view_module": "@jupyter-widgets/base",
            "_model_module_version": "1.5.0",
            "_view_count": null,
            "_view_module_version": "1.2.0",
            "_model_module": "@jupyter-widgets/controls"
          }
        },
        "2f3b31ab1b104e2292f8e4bf9a251f2f": {
          "model_module": "@jupyter-widgets/base",
          "model_name": "LayoutModel",
          "model_module_version": "1.2.0",
          "state": {
            "_view_name": "LayoutView",
            "grid_template_rows": null,
            "right": null,
            "justify_content": null,
            "_view_module": "@jupyter-widgets/base",
            "overflow": null,
            "_model_module_version": "1.2.0",
            "_view_count": null,
            "flex_flow": null,
            "width": null,
            "min_width": null,
            "border": null,
            "align_items": null,
            "bottom": null,
            "_model_module": "@jupyter-widgets/base",
            "top": null,
            "grid_column": null,
            "overflow_y": null,
            "overflow_x": null,
            "grid_auto_flow": null,
            "grid_area": null,
            "grid_template_columns": null,
            "flex": null,
            "_model_name": "LayoutModel",
            "justify_items": null,
            "grid_row": null,
            "max_height": null,
            "align_content": null,
            "visibility": null,
            "align_self": null,
            "height": null,
            "min_height": null,
            "padding": null,
            "grid_auto_rows": null,
            "grid_gap": null,
            "max_width": null,
            "order": null,
            "_view_module_version": "1.2.0",
            "grid_template_areas": null,
            "object_position": null,
            "object_fit": null,
            "grid_auto_columns": null,
            "margin": null,
            "display": null,
            "left": null
          }
        },
        "a67bc6688f5a44c6bbde3680d1dfb99d": {
          "model_module": "@jupyter-widgets/controls",
          "model_name": "ProgressStyleModel",
          "model_module_version": "1.5.0",
          "state": {
            "_view_name": "StyleView",
            "_model_name": "ProgressStyleModel",
            "description_width": "",
            "_view_module": "@jupyter-widgets/base",
            "_model_module_version": "1.5.0",
            "_view_count": null,
            "_view_module_version": "1.2.0",
            "bar_color": null,
            "_model_module": "@jupyter-widgets/controls"
          }
        },
        "84d6150619da4bacbc79467627f430f2": {
          "model_module": "@jupyter-widgets/base",
          "model_name": "LayoutModel",
          "model_module_version": "1.2.0",
          "state": {
            "_view_name": "LayoutView",
            "grid_template_rows": null,
            "right": null,
            "justify_content": null,
            "_view_module": "@jupyter-widgets/base",
            "overflow": null,
            "_model_module_version": "1.2.0",
            "_view_count": null,
            "flex_flow": null,
            "width": null,
            "min_width": null,
            "border": null,
            "align_items": null,
            "bottom": null,
            "_model_module": "@jupyter-widgets/base",
            "top": null,
            "grid_column": null,
            "overflow_y": null,
            "overflow_x": null,
            "grid_auto_flow": null,
            "grid_area": null,
            "grid_template_columns": null,
            "flex": null,
            "_model_name": "LayoutModel",
            "justify_items": null,
            "grid_row": null,
            "max_height": null,
            "align_content": null,
            "visibility": null,
            "align_self": null,
            "height": null,
            "min_height": null,
            "padding": null,
            "grid_auto_rows": null,
            "grid_gap": null,
            "max_width": null,
            "order": null,
            "_view_module_version": "1.2.0",
            "grid_template_areas": null,
            "object_position": null,
            "object_fit": null,
            "grid_auto_columns": null,
            "margin": null,
            "display": null,
            "left": null
          }
        },
        "032f4382634a450e8d10a0e4dbfc355e": {
          "model_module": "@jupyter-widgets/controls",
          "model_name": "DescriptionStyleModel",
          "model_module_version": "1.5.0",
          "state": {
            "_view_name": "StyleView",
            "_model_name": "DescriptionStyleModel",
            "description_width": "",
            "_view_module": "@jupyter-widgets/base",
            "_model_module_version": "1.5.0",
            "_view_count": null,
            "_view_module_version": "1.2.0",
            "_model_module": "@jupyter-widgets/controls"
          }
        },
        "de51dfa6ae6c4c1e9514e8042f494f54": {
          "model_module": "@jupyter-widgets/base",
          "model_name": "LayoutModel",
          "model_module_version": "1.2.0",
          "state": {
            "_view_name": "LayoutView",
            "grid_template_rows": null,
            "right": null,
            "justify_content": null,
            "_view_module": "@jupyter-widgets/base",
            "overflow": null,
            "_model_module_version": "1.2.0",
            "_view_count": null,
            "flex_flow": null,
            "width": null,
            "min_width": null,
            "border": null,
            "align_items": null,
            "bottom": null,
            "_model_module": "@jupyter-widgets/base",
            "top": null,
            "grid_column": null,
            "overflow_y": null,
            "overflow_x": null,
            "grid_auto_flow": null,
            "grid_area": null,
            "grid_template_columns": null,
            "flex": null,
            "_model_name": "LayoutModel",
            "justify_items": null,
            "grid_row": null,
            "max_height": null,
            "align_content": null,
            "visibility": null,
            "align_self": null,
            "height": null,
            "min_height": null,
            "padding": null,
            "grid_auto_rows": null,
            "grid_gap": null,
            "max_width": null,
            "order": null,
            "_view_module_version": "1.2.0",
            "grid_template_areas": null,
            "object_position": null,
            "object_fit": null,
            "grid_auto_columns": null,
            "margin": null,
            "display": null,
            "left": null
          }
        },
        "45ea7aa7833e49129a6108b3369eeab6": {
          "model_module": "@jupyter-widgets/controls",
          "model_name": "HBoxModel",
          "model_module_version": "1.5.0",
          "state": {
            "_view_name": "HBoxView",
            "_dom_classes": [],
            "_model_name": "HBoxModel",
            "_view_module": "@jupyter-widgets/controls",
            "_model_module_version": "1.5.0",
            "_view_count": null,
            "_view_module_version": "1.5.0",
            "box_style": "",
            "layout": "IPY_MODEL_fa515357a0ed4ce798b394f0707263e5",
            "_model_module": "@jupyter-widgets/controls",
            "children": [
              "IPY_MODEL_9dd5bbb43a9e400cbf7c84ed83b772f7",
              "IPY_MODEL_598b62c909db487aa9d595f0c37dacee",
              "IPY_MODEL_ffce3e3e6abc4cd0beaf5cad5c8bfba2"
            ]
          }
        },
        "fa515357a0ed4ce798b394f0707263e5": {
          "model_module": "@jupyter-widgets/base",
          "model_name": "LayoutModel",
          "model_module_version": "1.2.0",
          "state": {
            "_view_name": "LayoutView",
            "grid_template_rows": null,
            "right": null,
            "justify_content": null,
            "_view_module": "@jupyter-widgets/base",
            "overflow": null,
            "_model_module_version": "1.2.0",
            "_view_count": null,
            "flex_flow": null,
            "width": null,
            "min_width": null,
            "border": null,
            "align_items": null,
            "bottom": null,
            "_model_module": "@jupyter-widgets/base",
            "top": null,
            "grid_column": null,
            "overflow_y": null,
            "overflow_x": null,
            "grid_auto_flow": null,
            "grid_area": null,
            "grid_template_columns": null,
            "flex": null,
            "_model_name": "LayoutModel",
            "justify_items": null,
            "grid_row": null,
            "max_height": null,
            "align_content": null,
            "visibility": null,
            "align_self": null,
            "height": null,
            "min_height": null,
            "padding": null,
            "grid_auto_rows": null,
            "grid_gap": null,
            "max_width": null,
            "order": null,
            "_view_module_version": "1.2.0",
            "grid_template_areas": null,
            "object_position": null,
            "object_fit": null,
            "grid_auto_columns": null,
            "margin": null,
            "display": null,
            "left": null
          }
        },
        "9dd5bbb43a9e400cbf7c84ed83b772f7": {
          "model_module": "@jupyter-widgets/controls",
          "model_name": "HTMLModel",
          "model_module_version": "1.5.0",
          "state": {
            "_view_name": "HTMLView",
            "style": "IPY_MODEL_fdae074a365249c9aa55b5f6af83694f",
            "_dom_classes": [],
            "description": "",
            "_model_name": "HTMLModel",
            "placeholder": "​",
            "_view_module": "@jupyter-widgets/controls",
            "_model_module_version": "1.5.0",
            "value": "",
            "_view_count": null,
            "_view_module_version": "1.5.0",
            "description_tooltip": null,
            "_model_module": "@jupyter-widgets/controls",
            "layout": "IPY_MODEL_f0ed6ea1a6e3410eb5f8e859048f54aa"
          }
        },
        "598b62c909db487aa9d595f0c37dacee": {
          "model_module": "@jupyter-widgets/controls",
          "model_name": "FloatProgressModel",
          "model_module_version": "1.5.0",
          "state": {
            "_view_name": "ProgressView",
            "style": "IPY_MODEL_956f80efb2754d2499b31c0048bf0a05",
            "_dom_classes": [],
            "description": "",
            "_model_name": "FloatProgressModel",
            "bar_style": "success",
            "max": 4542,
            "_view_module": "@jupyter-widgets/controls",
            "_model_module_version": "1.5.0",
            "value": 4542,
            "_view_count": null,
            "_view_module_version": "1.5.0",
            "orientation": "horizontal",
            "min": 0,
            "description_tooltip": null,
            "_model_module": "@jupyter-widgets/controls",
            "layout": "IPY_MODEL_2ca72d1a416e42a79f2cebd3591ab3a3"
          }
        },
        "ffce3e3e6abc4cd0beaf5cad5c8bfba2": {
          "model_module": "@jupyter-widgets/controls",
          "model_name": "HTMLModel",
          "model_module_version": "1.5.0",
          "state": {
            "_view_name": "HTMLView",
            "style": "IPY_MODEL_739e6cfd64304fa699532bd5d563c658",
            "_dom_classes": [],
            "description": "",
            "_model_name": "HTMLModel",
            "placeholder": "​",
            "_view_module": "@jupyter-widgets/controls",
            "_model_module_version": "1.5.0",
            "value": " 5120/? [00:00&lt;00:00, 131669.92it/s]",
            "_view_count": null,
            "_view_module_version": "1.5.0",
            "description_tooltip": null,
            "_model_module": "@jupyter-widgets/controls",
            "layout": "IPY_MODEL_edc3e481adda4d488e15002c2d8de689"
          }
        },
        "fdae074a365249c9aa55b5f6af83694f": {
          "model_module": "@jupyter-widgets/controls",
          "model_name": "DescriptionStyleModel",
          "model_module_version": "1.5.0",
          "state": {
            "_view_name": "StyleView",
            "_model_name": "DescriptionStyleModel",
            "description_width": "",
            "_view_module": "@jupyter-widgets/base",
            "_model_module_version": "1.5.0",
            "_view_count": null,
            "_view_module_version": "1.2.0",
            "_model_module": "@jupyter-widgets/controls"
          }
        },
        "f0ed6ea1a6e3410eb5f8e859048f54aa": {
          "model_module": "@jupyter-widgets/base",
          "model_name": "LayoutModel",
          "model_module_version": "1.2.0",
          "state": {
            "_view_name": "LayoutView",
            "grid_template_rows": null,
            "right": null,
            "justify_content": null,
            "_view_module": "@jupyter-widgets/base",
            "overflow": null,
            "_model_module_version": "1.2.0",
            "_view_count": null,
            "flex_flow": null,
            "width": null,
            "min_width": null,
            "border": null,
            "align_items": null,
            "bottom": null,
            "_model_module": "@jupyter-widgets/base",
            "top": null,
            "grid_column": null,
            "overflow_y": null,
            "overflow_x": null,
            "grid_auto_flow": null,
            "grid_area": null,
            "grid_template_columns": null,
            "flex": null,
            "_model_name": "LayoutModel",
            "justify_items": null,
            "grid_row": null,
            "max_height": null,
            "align_content": null,
            "visibility": null,
            "align_self": null,
            "height": null,
            "min_height": null,
            "padding": null,
            "grid_auto_rows": null,
            "grid_gap": null,
            "max_width": null,
            "order": null,
            "_view_module_version": "1.2.0",
            "grid_template_areas": null,
            "object_position": null,
            "object_fit": null,
            "grid_auto_columns": null,
            "margin": null,
            "display": null,
            "left": null
          }
        },
        "956f80efb2754d2499b31c0048bf0a05": {
          "model_module": "@jupyter-widgets/controls",
          "model_name": "ProgressStyleModel",
          "model_module_version": "1.5.0",
          "state": {
            "_view_name": "StyleView",
            "_model_name": "ProgressStyleModel",
            "description_width": "",
            "_view_module": "@jupyter-widgets/base",
            "_model_module_version": "1.5.0",
            "_view_count": null,
            "_view_module_version": "1.2.0",
            "bar_color": null,
            "_model_module": "@jupyter-widgets/controls"
          }
        },
        "2ca72d1a416e42a79f2cebd3591ab3a3": {
          "model_module": "@jupyter-widgets/base",
          "model_name": "LayoutModel",
          "model_module_version": "1.2.0",
          "state": {
            "_view_name": "LayoutView",
            "grid_template_rows": null,
            "right": null,
            "justify_content": null,
            "_view_module": "@jupyter-widgets/base",
            "overflow": null,
            "_model_module_version": "1.2.0",
            "_view_count": null,
            "flex_flow": null,
            "width": null,
            "min_width": null,
            "border": null,
            "align_items": null,
            "bottom": null,
            "_model_module": "@jupyter-widgets/base",
            "top": null,
            "grid_column": null,
            "overflow_y": null,
            "overflow_x": null,
            "grid_auto_flow": null,
            "grid_area": null,
            "grid_template_columns": null,
            "flex": null,
            "_model_name": "LayoutModel",
            "justify_items": null,
            "grid_row": null,
            "max_height": null,
            "align_content": null,
            "visibility": null,
            "align_self": null,
            "height": null,
            "min_height": null,
            "padding": null,
            "grid_auto_rows": null,
            "grid_gap": null,
            "max_width": null,
            "order": null,
            "_view_module_version": "1.2.0",
            "grid_template_areas": null,
            "object_position": null,
            "object_fit": null,
            "grid_auto_columns": null,
            "margin": null,
            "display": null,
            "left": null
          }
        },
        "739e6cfd64304fa699532bd5d563c658": {
          "model_module": "@jupyter-widgets/controls",
          "model_name": "DescriptionStyleModel",
          "model_module_version": "1.5.0",
          "state": {
            "_view_name": "StyleView",
            "_model_name": "DescriptionStyleModel",
            "description_width": "",
            "_view_module": "@jupyter-widgets/base",
            "_model_module_version": "1.5.0",
            "_view_count": null,
            "_view_module_version": "1.2.0",
            "_model_module": "@jupyter-widgets/controls"
          }
        },
        "edc3e481adda4d488e15002c2d8de689": {
          "model_module": "@jupyter-widgets/base",
          "model_name": "LayoutModel",
          "model_module_version": "1.2.0",
          "state": {
            "_view_name": "LayoutView",
            "grid_template_rows": null,
            "right": null,
            "justify_content": null,
            "_view_module": "@jupyter-widgets/base",
            "overflow": null,
            "_model_module_version": "1.2.0",
            "_view_count": null,
            "flex_flow": null,
            "width": null,
            "min_width": null,
            "border": null,
            "align_items": null,
            "bottom": null,
            "_model_module": "@jupyter-widgets/base",
            "top": null,
            "grid_column": null,
            "overflow_y": null,
            "overflow_x": null,
            "grid_auto_flow": null,
            "grid_area": null,
            "grid_template_columns": null,
            "flex": null,
            "_model_name": "LayoutModel",
            "justify_items": null,
            "grid_row": null,
            "max_height": null,
            "align_content": null,
            "visibility": null,
            "align_self": null,
            "height": null,
            "min_height": null,
            "padding": null,
            "grid_auto_rows": null,
            "grid_gap": null,
            "max_width": null,
            "order": null,
            "_view_module_version": "1.2.0",
            "grid_template_areas": null,
            "object_position": null,
            "object_fit": null,
            "grid_auto_columns": null,
            "margin": null,
            "display": null,
            "left": null
          }
        }
      }
    }
  },
  "cells": [
    {
      "cell_type": "markdown",
      "metadata": {
        "id": "view-in-github",
        "colab_type": "text"
      },
      "source": [
        "<a href=\"https://colab.research.google.com/github/yonghyunk1m/coding-notes/blob/master/PyTorch.ipynb\" target=\"_parent\"><img src=\"https://colab.research.google.com/assets/colab-badge.svg\" alt=\"Open In Colab\"/></a>"
      ]
    },
    {
      "cell_type": "markdown",
      "source": [
        "**Pytorch에 대해서 알아보도록 하자!**\n",
        "\n",
        "\n",
        "> *참고자료: wikidocs.net/60034*\n",
        "\n"
      ],
      "metadata": {
        "id": "c0Q9KvGgMs-H"
      }
    },
    {
      "cell_type": "markdown",
      "source": [
        "[Tensor]\n",
        "\n",
        "Scalar (0D)\n",
        "Vector (1D)\n",
        "Matrix (2D)"
      ],
      "metadata": {
        "id": "RoYg735NM2Wi"
      }
    },
    {
      "cell_type": "code",
      "source": [
        "import numpy as np\n",
        "\n",
        "tensor_np_1D = np.array([0., 1., 2., 3., 4., 5., 6., 7.])\n",
        "print(tensor_np_1D)\n",
        "print(\"Rank: \", tensor_np_1D.ndim) # ndim: dimension number\n",
        "print(\"Shape: \", tensor_np_1D.shape) # shape: size (or shape)"
      ],
      "metadata": {
        "colab": {
          "base_uri": "https://localhost:8080/"
        },
        "id": "7QOPgM-JOJRq",
        "outputId": "415a7d8c-2579-4855-a8d1-92261c5b7186"
      },
      "execution_count": null,
      "outputs": [
        {
          "output_type": "stream",
          "name": "stdout",
          "text": [
            "[0. 1. 2. 3. 4. 5. 6. 7.]\n",
            "Rank:  1\n",
            "Shape:  (8,)\n"
          ]
        }
      ]
    },
    {
      "cell_type": "code",
      "source": [
        "tensor_np_2D = np.array([[1., 2., 3.], [4., 5., 6.], [7., 8., 9.], [10., 11., 12.]])\n",
        "print(tensor_np_2D)\n",
        "print(\"Rank: \", tensor_np_2D.ndim) # ndim: dimension number\n",
        "print(\"Shape: \", tensor_np_2D.shape) # shape: size (or shape)"
      ],
      "metadata": {
        "colab": {
          "base_uri": "https://localhost:8080/"
        },
        "id": "CMVqEHFmOp5d",
        "outputId": "d19ec893-3c96-4450-cbdb-a38cb2447f52"
      },
      "execution_count": null,
      "outputs": [
        {
          "output_type": "stream",
          "name": "stdout",
          "text": [
            "[[ 1.  2.  3.]\n",
            " [ 4.  5.  6.]\n",
            " [ 7.  8.  9.]\n",
            " [10. 11. 12.]]\n",
            "Rank:  2\n",
            "Shape:  (4, 3)\n"
          ]
        }
      ]
    },
    {
      "cell_type": "code",
      "source": [
        "import torch\n",
        "tensor_pt_1D = torch.FloatTensor([0., 1., 2., 3., 4., 5., 6., 7.])\n",
        "print(tensor_pt_1D)\n",
        "print(\"Dimension: \", tensor_pt_1D.dim)\n",
        "print(\"Shape: \", tensor_pt_1D.shape)\n",
        "print(\"Size(): \", tensor_pt_1D.size())"
      ],
      "metadata": {
        "colab": {
          "base_uri": "https://localhost:8080/"
        },
        "id": "Ukq-sLF_O-ar",
        "outputId": "aa190202-01b3-456b-8e80-03fdfc567395"
      },
      "execution_count": null,
      "outputs": [
        {
          "output_type": "stream",
          "name": "stdout",
          "text": [
            "tensor([0., 1., 2., 3., 4., 5., 6., 7.])\n",
            "Dimension:  <built-in method dim of Tensor object at 0x7fac106f9830>\n",
            "Shape:  torch.Size([8])\n",
            "Size():  torch.Size([8])\n"
          ]
        }
      ]
    },
    {
      "cell_type": "code",
      "source": [
        "#Indexing, Slicing\n",
        "print(tensor_pt_1D[0])\n",
        "print(tensor_pt_1D[2:5])\n",
        "print(tensor_pt_1D[2:])"
      ],
      "metadata": {
        "colab": {
          "base_uri": "https://localhost:8080/"
        },
        "id": "NU_A5UQrPiDG",
        "outputId": "e4a04b2a-7f40-4223-ca35-43ade4206533"
      },
      "execution_count": null,
      "outputs": [
        {
          "output_type": "stream",
          "name": "stdout",
          "text": [
            "tensor(0.)\n",
            "tensor([2., 3., 4.])\n",
            "tensor([2., 3., 4., 5., 6., 7.])\n"
          ]
        }
      ]
    },
    {
      "cell_type": "code",
      "source": [
        "tensor_pt_2D = torch.FloatTensor([[1.,2.,3.],\n",
        "                                  [4.,5.,6.],\n",
        "                                  [7.,8.,9.],\n",
        "                                  [10.,11.,12.]])"
      ],
      "metadata": {
        "id": "qrXX28gMPz2U"
      },
      "execution_count": null,
      "outputs": []
    },
    {
      "cell_type": "code",
      "source": [
        "print(tensor_pt_2D.dim())\n",
        "print(tensor_pt_2D.shape)\n",
        "print(tensor_pt_2D.size())"
      ],
      "metadata": {
        "colab": {
          "base_uri": "https://localhost:8080/"
        },
        "id": "ZHuI_Lq7QBhX",
        "outputId": "37c210bb-5ca0-43dc-d778-a1c1dfecafbb"
      },
      "execution_count": null,
      "outputs": [
        {
          "output_type": "stream",
          "name": "stdout",
          "text": [
            "2\n",
            "torch.Size([4, 3])\n",
            "torch.Size([4, 3])\n"
          ]
        }
      ]
    },
    {
      "cell_type": "markdown",
      "source": [
        "Broadcasting"
      ],
      "metadata": {
        "id": "OF5HlhihQVKk"
      }
    },
    {
      "cell_type": "code",
      "source": [
        "m1 = torch.FloatTensor([[3,3]]) #1*2\n",
        "m2 = torch.FloatTensor([[5,5]]) #1*2\n",
        "m3 = torch.FloatTensor([[2,3],[4,5]]) #2*2\n",
        "print(m1+m2)\n",
        "print(m1+m3)\n",
        "print(m2*m3)\n",
        "print(m3*m2)\n",
        "print(m3.mul(m2))\n",
        "m2_reshape = m2.reshape(2,1)\n",
        "print(m3.matmul(m2_reshape))\n",
        "print(m2.matmul(m3))"
      ],
      "metadata": {
        "colab": {
          "base_uri": "https://localhost:8080/"
        },
        "id": "ihCGi5bYQIqp",
        "outputId": "efafdaa4-3a46-401b-9633-5e25010aea26"
      },
      "execution_count": null,
      "outputs": [
        {
          "output_type": "stream",
          "name": "stdout",
          "text": [
            "tensor([[8., 8.]])\n",
            "tensor([[5., 6.],\n",
            "        [7., 8.]])\n",
            "tensor([[10., 15.],\n",
            "        [20., 25.]])\n",
            "tensor([[10., 15.],\n",
            "        [20., 25.]])\n",
            "tensor([[10., 15.],\n",
            "        [20., 25.]])\n",
            "tensor([[25.],\n",
            "        [45.]])\n",
            "tensor([[30., 40.]])\n"
          ]
        }
      ]
    },
    {
      "cell_type": "markdown",
      "source": [
        "Mean, Sum"
      ],
      "metadata": {
        "id": "dtxyNVfpSYo4"
      }
    },
    {
      "cell_type": "code",
      "source": [
        "t = torch.FloatTensor([[1, 2], \n",
        "                       [3, 4]])\n",
        "print(t.mean()) #2.5000\n",
        "print(t.mean(dim=0)) #0(가로)성분 삭제 [2., 3.]\n",
        "print(t.mean(dim=1)) #1(세로)성분 삭제 [[1.5], [3.5]] -> [1.5, 3.5]"
      ],
      "metadata": {
        "colab": {
          "base_uri": "https://localhost:8080/"
        },
        "id": "1g2iB8ocQrfF",
        "outputId": "9978a48b-acc5-47b1-b86e-bef36ee918f1"
      },
      "execution_count": null,
      "outputs": [
        {
          "output_type": "stream",
          "name": "stdout",
          "text": [
            "tensor(2.5000)\n",
            "tensor([2., 3.])\n",
            "tensor([1.5000, 3.5000])\n"
          ]
        }
      ]
    },
    {
      "cell_type": "code",
      "source": [
        "print(t.sum(dim=0))\n",
        "print(t.sum(dim=1))"
      ],
      "metadata": {
        "colab": {
          "base_uri": "https://localhost:8080/"
        },
        "id": "wY0rzoJZTj5r",
        "outputId": "31aef061-c3c7-4a57-9c07-b36d483ba487"
      },
      "execution_count": null,
      "outputs": [
        {
          "output_type": "stream",
          "name": "stdout",
          "text": [
            "tensor([4., 6.])\n",
            "tensor([3., 7.])\n"
          ]
        }
      ]
    },
    {
      "cell_type": "markdown",
      "source": [
        "Max, Argmax"
      ],
      "metadata": {
        "id": "oT887cnjUKWB"
      }
    },
    {
      "cell_type": "code",
      "source": [
        "print(t.max())\n",
        "print(t.max(dim=0))\n",
        "print(t.max(dim=1))\n",
        "print(\"Max (dim=0):\",t.max(dim=0)[0])\n",
        "print(\"Argmax (dim=0):\",t.max(dim=0)[1])"
      ],
      "metadata": {
        "colab": {
          "base_uri": "https://localhost:8080/"
        },
        "id": "qBVRufrITnJa",
        "outputId": "5cdda601-de53-4044-f5a7-ccb9462bec73"
      },
      "execution_count": null,
      "outputs": [
        {
          "output_type": "stream",
          "name": "stdout",
          "text": [
            "tensor(4.)\n",
            "torch.return_types.max(\n",
            "values=tensor([3., 4.]),\n",
            "indices=tensor([1, 1]))\n",
            "torch.return_types.max(\n",
            "values=tensor([2., 4.]),\n",
            "indices=tensor([1, 1]))\n",
            "Max (dim=0): tensor([3., 4.])\n",
            "Argmax (dim=0): tensor([1, 1])\n"
          ]
        }
      ]
    },
    {
      "cell_type": "markdown",
      "source": [
        "[View]\n",
        "\n",
        "원소의 수는 유지, 텐서의 Shape을 변경;\n",
        "\n",
        "numpy에서의 reshape와 동일"
      ],
      "metadata": {
        "id": "H3fxt_lKU1QU"
      }
    },
    {
      "cell_type": "code",
      "source": [
        "t = np.array([[[0, 1, 2],\n",
        "               [3, 4, 5]],\n",
        "              [[6, 7, 8],\n",
        "               [9, 10, 11]]])\n",
        "ft = torch.FloatTensor(t)\n",
        "print(ft.size())"
      ],
      "metadata": {
        "colab": {
          "base_uri": "https://localhost:8080/"
        },
        "id": "w4771z1oUSgH",
        "outputId": "c0365faf-082f-4032-cbbf-b113c1eba675"
      },
      "execution_count": null,
      "outputs": [
        {
          "output_type": "stream",
          "name": "stdout",
          "text": [
            "torch.Size([2, 2, 3])\n"
          ]
        }
      ]
    },
    {
      "cell_type": "code",
      "source": [
        "# -1은 사용자가 모르겠으니 Pytorch보고 알아서 계산하라는 뜻\n",
        "print(ft.view([-1,3]))\n",
        "print(ft.view([-1,3]).size())\n",
        "# view는 Shape 변경 전과 후에서 원소의 개수가 유지시키는게 가능해야함."
      ],
      "metadata": {
        "colab": {
          "base_uri": "https://localhost:8080/"
        },
        "id": "UdXycCRMVZsd",
        "outputId": "77db4d05-4f44-43d9-c2a0-d6aa93e87420"
      },
      "execution_count": null,
      "outputs": [
        {
          "output_type": "stream",
          "name": "stdout",
          "text": [
            "tensor([[ 0.,  1.,  2.],\n",
            "        [ 3.,  4.,  5.],\n",
            "        [ 6.,  7.,  8.],\n",
            "        [ 9., 10., 11.]])\n",
            "torch.Size([4, 3])\n"
          ]
        }
      ]
    },
    {
      "cell_type": "code",
      "source": [
        "print(ft.view([1,-1,3]))\n",
        "print(ft.view([-1,1,3]))"
      ],
      "metadata": {
        "colab": {
          "base_uri": "https://localhost:8080/"
        },
        "id": "GogCUBtKVhH0",
        "outputId": "6f6f013b-c4ff-4b71-92d2-b05d26b3af2c"
      },
      "execution_count": null,
      "outputs": [
        {
          "output_type": "stream",
          "name": "stdout",
          "text": [
            "tensor([[[ 0.,  1.,  2.],\n",
            "         [ 3.,  4.,  5.],\n",
            "         [ 6.,  7.,  8.],\n",
            "         [ 9., 10., 11.]]])\n",
            "tensor([[[ 0.,  1.,  2.]],\n",
            "\n",
            "        [[ 3.,  4.,  5.]],\n",
            "\n",
            "        [[ 6.,  7.,  8.]],\n",
            "\n",
            "        [[ 9., 10., 11.]]])\n"
          ]
        }
      ]
    },
    {
      "cell_type": "markdown",
      "source": [
        "Squeeze, Unsqueeze\n",
        "\n",
        "Squeeze: 1인 차원을 제거\n",
        "Unsqueeze: 특정 위치에 1인 차원을 추가"
      ],
      "metadata": {
        "id": "DhNeOEn-WZb0"
      }
    },
    {
      "cell_type": "code",
      "source": [
        "ft = torch.FloatTensor([[0], [1], [2]])\n",
        "print(ft)\n",
        "print(ft.size()) # 3*1\n",
        "print(ft.squeeze()) # 3; [0, 1, 2]\n",
        "print(ft.squeeze().size())"
      ],
      "metadata": {
        "colab": {
          "base_uri": "https://localhost:8080/"
        },
        "id": "szNbveeOV8pM",
        "outputId": "6edde7c4-14e1-45e7-9c1d-bc8d188f2aa8"
      },
      "execution_count": null,
      "outputs": [
        {
          "output_type": "stream",
          "name": "stdout",
          "text": [
            "tensor([[0.],\n",
            "        [1.],\n",
            "        [2.]])\n",
            "torch.Size([3, 1])\n",
            "tensor([0., 1., 2.])\n",
            "torch.Size([3])\n"
          ]
        }
      ]
    },
    {
      "cell_type": "code",
      "source": [
        "ft = torch.Tensor([0, 1, 2]) # 3,\n",
        "print(ft.shape)\n",
        "print(ft.unsqueeze(0)) # 1*3으로 강제 변형: [[0, 1, 2]]\n",
        "print(ft.unsqueeze(0).size())\n",
        "print(ft.unsqueeze(1)) # 3*1으로 강제 변형: [[0],[1],[2]]\n",
        "print(ft.unsqueeze(1).size())"
      ],
      "metadata": {
        "colab": {
          "base_uri": "https://localhost:8080/"
        },
        "id": "lywBqkRHW_Af",
        "outputId": "0dab1d0b-8942-4444-882d-4806e7c42794"
      },
      "execution_count": null,
      "outputs": [
        {
          "output_type": "stream",
          "name": "stdout",
          "text": [
            "torch.Size([3])\n",
            "tensor([[0., 1., 2.]])\n",
            "torch.Size([1, 3])\n",
            "tensor([[0.],\n",
            "        [1.],\n",
            "        [2.]])\n",
            "torch.Size([3, 1])\n"
          ]
        }
      ]
    },
    {
      "cell_type": "markdown",
      "source": [
        "Type Casting\n",
        "\n",
        "32-bit floating point: *torch.float32 == torch.float* **torch.FloatTensor**\n",
        "\n",
        "64-bit floating point: *torch.float64 == torch.double* **torch.DoubleTensor**\n",
        "\n",
        "16-bit floating point: *torch.float16 == torch.half* **torch.HalfTensor**\n",
        "\n",
        "8-bit integer (unsigned): *torch.uint8* **torch.ByteTensor**\n",
        "\n",
        "8-bit integer (signed): *torch.int8* **torch.CharTensor**\n",
        "\n",
        "16-bit integer: *torch.int16 or torch.short* **torch.ShortTensor**\n",
        "\n",
        "32-bit integer: *torch.int32 or torch.int* **torch.IntTensor**\n",
        "\n",
        "64-bit integer: *torch.int64 or torch.long* **torch.LongTensor**"
      ],
      "metadata": {
        "id": "oAyvD67uZIsR"
      }
    },
    {
      "cell_type": "code",
      "source": [
        "lt = torch.LongTensor([1,2,3,4])\n",
        "print(lt)\n",
        "print(lt.float())\n",
        "\n",
        "bt = torch.ByteTensor([True, False, False, True])\n",
        "print(bt)\n",
        "print(bt.long())\n",
        "print(bt.float())"
      ],
      "metadata": {
        "colab": {
          "base_uri": "https://localhost:8080/"
        },
        "id": "mO3FKzAuXgjv",
        "outputId": "8c990356-bf37-428a-ea61-e82080e618a2"
      },
      "execution_count": null,
      "outputs": [
        {
          "output_type": "stream",
          "name": "stdout",
          "text": [
            "tensor([1, 2, 3, 4])\n",
            "tensor([1., 2., 3., 4.])\n",
            "tensor([1, 0, 0, 1], dtype=torch.uint8)\n",
            "tensor([1, 0, 0, 1])\n",
            "tensor([1., 0., 0., 1.])\n"
          ]
        }
      ]
    },
    {
      "cell_type": "markdown",
      "source": [
        "Concatenating, Stacking"
      ],
      "metadata": {
        "id": "qfo38frOZKYE"
      }
    },
    {
      "cell_type": "code",
      "source": [
        "x = torch.FloatTensor([[1.,2.],[3.,4.]])\n",
        "y = torch.FloatTensor([[5.,6.],[7.,8.]])\n",
        "print(torch.cat([x,y], dim=0)) # 여기서 dim은 어디로 \"늘릴까\"를 의미한다. (예외적)\n",
        "print(torch.cat([x,y], dim=1))"
      ],
      "metadata": {
        "colab": {
          "base_uri": "https://localhost:8080/"
        },
        "id": "-zmzX8yIZLOn",
        "outputId": "15ed9bf3-0f71-4be3-c30e-ce2065f262ac"
      },
      "execution_count": null,
      "outputs": [
        {
          "output_type": "stream",
          "name": "stdout",
          "text": [
            "tensor([[1., 2.],\n",
            "        [3., 4.],\n",
            "        [5., 6.],\n",
            "        [7., 8.]])\n",
            "tensor([[1., 2., 5., 6.],\n",
            "        [3., 4., 7., 8.]])\n"
          ]
        }
      ]
    },
    {
      "cell_type": "code",
      "source": [
        "x = torch.FloatTensor([1,2]) #2,\n",
        "y = torch.FloatTensor([3,4]) #2,\n",
        "z = torch.FloatTensor([5,6]) #2,\n",
        "\n",
        "print(torch.cat([x.unsqueeze(0), y.unsqueeze(0), z.unsqueeze(0)], dim=0))\n",
        "print(torch.stack([x,y,z]))\n",
        "print(torch.stack([x,y,z], dim=0))\n",
        "print(torch.stack([x,y,z], dim=1))"
      ],
      "metadata": {
        "colab": {
          "base_uri": "https://localhost:8080/"
        },
        "id": "XQVv9mASb9Mx",
        "outputId": "3301a58f-69b1-4e8f-eb34-2e42bc807a19"
      },
      "execution_count": null,
      "outputs": [
        {
          "output_type": "stream",
          "name": "stdout",
          "text": [
            "tensor([[1., 2.],\n",
            "        [3., 4.],\n",
            "        [5., 6.]])\n",
            "tensor([[1., 2.],\n",
            "        [3., 4.],\n",
            "        [5., 6.]])\n",
            "tensor([[1., 2.],\n",
            "        [3., 4.],\n",
            "        [5., 6.]])\n",
            "tensor([[1., 3., 5.],\n",
            "        [2., 4., 6.]])\n"
          ]
        }
      ]
    },
    {
      "cell_type": "code",
      "source": [
        "x = torch.FloatTensor([[1.,2.],[3.,4.]])\n",
        "y = torch.FloatTensor([[5.,6.],[7.,8.]])\n",
        "print(torch.cat([x,y], dim=0)) # 2*2 2개 => 4*2\n",
        "print(torch.cat([x.unsqueeze(0), y.unsqueeze(0)], dim=0)) # 2*2 2개 => 2*2*2\n",
        "print(torch.stack([x,y])) # 2*2 2개 => 2*2*2"
      ],
      "metadata": {
        "colab": {
          "base_uri": "https://localhost:8080/"
        },
        "id": "KSD1g5XrcTki",
        "outputId": "2e42d808-e55a-4752-a5eb-cc107e4ef18a"
      },
      "execution_count": null,
      "outputs": [
        {
          "output_type": "stream",
          "name": "stdout",
          "text": [
            "tensor([[1., 2.],\n",
            "        [3., 4.],\n",
            "        [5., 6.],\n",
            "        [7., 8.]])\n",
            "tensor([[[1., 2.],\n",
            "         [3., 4.]],\n",
            "\n",
            "        [[5., 6.],\n",
            "         [7., 8.]]])\n",
            "tensor([[[1., 2.],\n",
            "         [3., 4.]],\n",
            "\n",
            "        [[5., 6.],\n",
            "         [7., 8.]]])\n"
          ]
        }
      ]
    },
    {
      "cell_type": "markdown",
      "source": [
        "ones_like, zeors_like\n",
        "\n",
        "모양은 같지만 채워지는 원소가 0 또는 1로만 구성"
      ],
      "metadata": {
        "id": "hU3awfIxebvr"
      }
    },
    {
      "cell_type": "code",
      "source": [
        "x = torch.FloatTensor([[0,1,2], [3,4,5]]) # 2*3\n",
        "print(x)\n",
        "print(torch.ones_like(x))\n",
        "print(torch.zeros_like(x))"
      ],
      "metadata": {
        "colab": {
          "base_uri": "https://localhost:8080/"
        },
        "id": "w5nPYt7-dO9s",
        "outputId": "2431752c-1bd8-477d-9b46-8d393d3cf70a"
      },
      "execution_count": null,
      "outputs": [
        {
          "output_type": "stream",
          "name": "stdout",
          "text": [
            "tensor([[0., 1., 2.],\n",
            "        [3., 4., 5.]])\n",
            "tensor([[1., 1., 1.],\n",
            "        [1., 1., 1.]])\n",
            "tensor([[0., 0., 0.],\n",
            "        [0., 0., 0.]])\n"
          ]
        }
      ]
    },
    {
      "cell_type": "markdown",
      "source": [
        "In-place Operation\n",
        "\n",
        "곱셈연산 뒤에 _(under score)를 붙이면 기존의 값을 덮어쓴다."
      ],
      "metadata": {
        "id": "q8ZkQA8MfKd4"
      }
    },
    {
      "cell_type": "code",
      "source": [
        "x = torch.FloatTensor([[1., 2.], [3., 4.]])\n",
        "\n",
        "print(x.mul(2.))\n",
        "print(x)\n",
        "\n",
        "print(x.mul_(2.))\n",
        "print(x)"
      ],
      "metadata": {
        "colab": {
          "base_uri": "https://localhost:8080/"
        },
        "id": "mMKUjfVIeq1Q",
        "outputId": "955a4ca4-4415-4561-d9b4-cb27c4a98754"
      },
      "execution_count": null,
      "outputs": [
        {
          "output_type": "stream",
          "name": "stdout",
          "text": [
            "tensor([[2., 4.],\n",
            "        [6., 8.]])\n",
            "tensor([[1., 2.],\n",
            "        [3., 4.]])\n",
            "tensor([[2., 4.],\n",
            "        [6., 8.]])\n",
            "tensor([[2., 4.],\n",
            "        [6., 8.]])\n"
          ]
        }
      ]
    },
    {
      "cell_type": "markdown",
      "source": [
        "Python Class"
      ],
      "metadata": {
        "id": "GFqJ1K2ffvQB"
      }
    },
    {
      "cell_type": "code",
      "source": [
        "# 함수로 덧셈기 구현하기\n",
        "result = 0\n",
        "def add(num):\n",
        "  global result #기존 전역변수를 가져다 사용\n",
        "  result += num\n",
        "  return result\n",
        "\n",
        "print(add(3))\n",
        "print(add(4))"
      ],
      "metadata": {
        "colab": {
          "base_uri": "https://localhost:8080/"
        },
        "id": "WUsOFz4xfbNo",
        "outputId": "4d0d81b9-8db1-47a3-d906-d1869d679e66"
      },
      "execution_count": null,
      "outputs": [
        {
          "output_type": "stream",
          "name": "stdout",
          "text": [
            "3\n",
            "7\n"
          ]
        }
      ]
    },
    {
      "cell_type": "code",
      "source": [
        "# 함수로 두개의 덧셈기 구현하기\n",
        "result1 = 0\n",
        "result2 = 0\n",
        "\n",
        "def add1(num):\n",
        "  global result1\n",
        "  result1 += num\n",
        "  return result1\n",
        "\n",
        "def add2(num):\n",
        "  global result2\n",
        "  result2 += num\n",
        "  return result2\n",
        "\n",
        "print(add1(3))\n",
        "print(add1(4))\n",
        "print(add2(3))\n",
        "print(add2(7))"
      ],
      "metadata": {
        "colab": {
          "base_uri": "https://localhost:8080/"
        },
        "id": "x00Vk2uNg5BJ",
        "outputId": "b1653d85-b481-49c9-d301-ba01ee3c8dc4"
      },
      "execution_count": null,
      "outputs": [
        {
          "output_type": "stream",
          "name": "stdout",
          "text": [
            "3\n",
            "7\n",
            "3\n",
            "10\n"
          ]
        }
      ]
    },
    {
      "cell_type": "code",
      "source": [
        "#클래스로 편안하게 다수의 계산기 구현하기\n",
        "class Calculator:\n",
        "  def __init__(self):\n",
        "    self.result = 0\n",
        "\n",
        "  def add(self, num):\n",
        "    self.result += num\n",
        "    return self.result\n",
        "  \n",
        "  def sub(self, num):\n",
        "    self.result -= num\n",
        "    return self.result\n",
        "\n",
        "c1 = Calculator()\n",
        "c2 = Calculator()\n",
        "\n",
        "print(c1.add(3))\n",
        "print(c1.add(4))\n",
        "\n",
        "print(c2.add(3))\n",
        "print(c2.add(7))"
      ],
      "metadata": {
        "colab": {
          "base_uri": "https://localhost:8080/"
        },
        "id": "_2vpFA1PhgDR",
        "outputId": "9976ab55-b6ed-499e-f15b-e063dcee717e"
      },
      "execution_count": null,
      "outputs": [
        {
          "output_type": "stream",
          "name": "stdout",
          "text": [
            "3\n",
            "7\n",
            "3\n",
            "10\n"
          ]
        }
      ]
    },
    {
      "cell_type": "markdown",
      "source": [
        "가설, 비용 함수, 옵티마이저는 머신 러닝 분야에서 사용되는 포괄적 개념입니다. 풀고자하는 각 문제에 따라 가설, 비용 함수, 옵티마이저는 전부 다를 수 있으며 선형 회귀에 가장 적합한 비용 함수는 평균 제곱 오차, 옵티마이저는 경사 하강법입니다."
      ],
      "metadata": {
        "id": "DHyTK9Z5lYZ2"
      }
    },
    {
      "cell_type": "code",
      "source": [
        "import torch\n",
        "import torch.nn as nn\n",
        "import torch.nn.functional as F\n",
        "import torch.optim as optim\n",
        "\n",
        "#현재 실습하고있는 파이썬 코드를 재실행해도 다시 동일한 결과가 나오도록 random seed를 fix한다.\n",
        "torch.manual_seed(7)\n",
        "\n",
        "x_train = torch.FloatTensor([[1], [2], [3]]) # 3*1 Matrix: torch.Size([3,1])\n",
        "y_train = torch.FloatTensor([[2], [4], [6]]) # 3*1 Matrix\n",
        "\n",
        "# Weight를 0으로 초기화 하고, 훈련을 통해 같이 변해지는 변수임을 명시함\n",
        "W = torch.zeros(1, requires_grad=True)\n",
        "\n",
        "# Bias 역시 동일하게 진행한다.\n",
        "b = torch.zeros(1, requires_grad=True)\n",
        "\n",
        "# 경사하강법을 구현을 위해 세팅을 한다. SGD: Stochastic Gradient Descent\n",
        "optimizer = optim.SGD([W,b], lr=0.01)\n",
        "\n",
        "epochs = 3000 # 10000번 경사하강법 진행\n",
        "for i in range(epochs + 1):\n",
        "  # Hypothesis h\n",
        "  h = W * x_train + b\n",
        "  # Cost function j\n",
        "  j = torch.mean((y_train-h)**2)\n",
        "\n",
        "  optimizer.zero_grad() # Gradient 초기화 (파이토치 특징)\n",
        "  j.backward() # Back propagation 진행\n",
        "  optimizer.step() # W와 b를 갱신 (SGD)\n",
        "\n",
        "  if i % 300 == 0:\n",
        "    print('Epoch {:4d}/{} W: {:.3f}, b: {:.3f}, cost: {:.6f}'.format(\n",
        "        i, epochs, W.item(), b.item(), j.item()\n",
        "    ))"
      ],
      "metadata": {
        "colab": {
          "base_uri": "https://localhost:8080/"
        },
        "id": "WJkrntMkiEMz",
        "outputId": "399d4680-3c7e-4d2e-efde-2cf077a57f92"
      },
      "execution_count": null,
      "outputs": [
        {
          "output_type": "stream",
          "name": "stdout",
          "text": [
            "Epoch    0/3000 W: 0.187, b: 0.080, cost: 18.666666\n",
            "Epoch  300/3000 W: 1.843, b: 0.357, cost: 0.018394\n",
            "Epoch  600/3000 W: 1.924, b: 0.174, cost: 0.004340\n",
            "Epoch  900/3000 W: 1.963, b: 0.084, cost: 0.001024\n",
            "Epoch 1200/3000 W: 1.982, b: 0.041, cost: 0.000242\n",
            "Epoch 1500/3000 W: 1.991, b: 0.020, cost: 0.000057\n",
            "Epoch 1800/3000 W: 1.996, b: 0.010, cost: 0.000013\n",
            "Epoch 2100/3000 W: 1.998, b: 0.005, cost: 0.000003\n",
            "Epoch 2400/3000 W: 1.999, b: 0.002, cost: 0.000001\n",
            "Epoch 2700/3000 W: 2.000, b: 0.001, cost: 0.000000\n",
            "Epoch 3000/3000 W: 2.000, b: 0.001, cost: 0.000000\n"
          ]
        }
      ]
    },
    {
      "cell_type": "code",
      "source": [
        "# Autograd 실습하기\n",
        "import torch\n",
        "w = torch.tensor(2.0, requires_grad=True)\n",
        "y = w**2\n",
        "z = 2*y + 5\n",
        "\n",
        "z.backward()\n",
        "\n",
        "print(w.grad)\n",
        "print(\"수식을 w로 미분한 뒤 w값을 대입한 값: {}\".format(w.grad))"
      ],
      "metadata": {
        "id": "FgFWd_ywpBvi",
        "colab": {
          "base_uri": "https://localhost:8080/"
        },
        "outputId": "da45c18b-c18a-4bea-f362-22d22c8b13e9"
      },
      "execution_count": 3,
      "outputs": [
        {
          "output_type": "stream",
          "name": "stdout",
          "text": [
            "tensor(8.)\n",
            "수식을 w로 미분한 뒤 w값을 대입한 값: 8.0\n"
          ]
        }
      ]
    },
    {
      "cell_type": "code",
      "source": [
        "#다중선형회귀 (Multivariable Linear regression)\n",
        "import torch\n",
        "import torch.nn as nn\n",
        "import torch.nn.functional as F\n",
        "import torch.optim as optim\n",
        "\n",
        "torch.manual_seed(7)\n",
        "\n",
        "# h = w1x1 + w2x2 + w3x3 + b (3개의 독립변수를 통해 hypothesis를 구하기)\n",
        "x1_train = torch.FloatTensor([[73], [93], [89], [96], [73]]) # 5*1 Matrix\n",
        "x2_train = torch.FloatTensor([[80], [88], [91], [98], [66]])\n",
        "x3_train = torch.FloatTensor([[75], [93], [90], [100], [70]])\n",
        "y_train = torch.FloatTensor([[152], [185], [180], [196], [142]])\n",
        "\n",
        "w1 = torch.zeros(1, requires_grad = True)\n",
        "w2 = torch.zeros(1, requires_grad = True)\n",
        "w3 = torch.zeros(1, requires_grad = True)\n",
        "b = torch.zeros(1, requires_grad = True)\n",
        "\n",
        "optimizer = optim.SGD([w1, w2, w3, b], lr=1e-5)\n",
        "\n",
        "epochs = 1000\n",
        "for i in range(epochs +1):\n",
        "  hypothesis = x1_train * w1 + x2_train * w2 + x3_train * w3 + b\n",
        "  cost = torch.mean((y_train - hypothesis) ** 2)\n",
        "  cost.backward()\n",
        "  optimizer.step()\n",
        "  optimizer.zero_grad()\n",
        "\n",
        "  if i % 100 == 0:\n",
        "    print(\"Epoch {:4d}/{} w1: {:.3f} w2: {:.3f} w3: {:.3f} b: {:.3f} COST: {:.6f}\".format(\n",
        "        i, epochs, w1.item(), w2.item(), w3.item(), b.item(), cost.item()\n",
        "        ))"
      ],
      "metadata": {
        "colab": {
          "base_uri": "https://localhost:8080/"
        },
        "id": "BEo3fuBtSplv",
        "outputId": "28e38724-5dda-426d-d0d1-87e89cd03e7b"
      },
      "execution_count": 7,
      "outputs": [
        {
          "output_type": "stream",
          "name": "stdout",
          "text": [
            "Epoch    0/1000 w1: 0.294 w2: 0.294 w3: 0.297 b: 0.003 COST: 29661.800781\n",
            "Epoch  100/1000 w1: 0.674 w2: 0.661 w3: 0.676 b: 0.008 COST: 1.563628\n",
            "Epoch  200/1000 w1: 0.679 w2: 0.655 w3: 0.677 b: 0.008 COST: 1.497595\n",
            "Epoch  300/1000 w1: 0.684 w2: 0.649 w3: 0.677 b: 0.008 COST: 1.435044\n",
            "Epoch  400/1000 w1: 0.689 w2: 0.643 w3: 0.678 b: 0.008 COST: 1.375726\n",
            "Epoch  500/1000 w1: 0.694 w2: 0.638 w3: 0.678 b: 0.009 COST: 1.319507\n",
            "Epoch  600/1000 w1: 0.699 w2: 0.633 w3: 0.679 b: 0.009 COST: 1.266222\n",
            "Epoch  700/1000 w1: 0.704 w2: 0.627 w3: 0.679 b: 0.009 COST: 1.215703\n",
            "Epoch  800/1000 w1: 0.709 w2: 0.622 w3: 0.679 b: 0.009 COST: 1.167810\n",
            "Epoch  900/1000 w1: 0.713 w2: 0.617 w3: 0.680 b: 0.009 COST: 1.122429\n",
            "Epoch 1000/1000 w1: 0.718 w2: 0.613 w3: 0.680 b: 0.009 COST: 1.079390\n"
          ]
        }
      ]
    },
    {
      "cell_type": "code",
      "source": [
        "x_train = torch.FloatTensor([[73, 80, 75],\n",
        "                             [93, 88, 93],\n",
        "                             [89, 91, 80],\n",
        "                             [96, 98, 100],\n",
        "                             [73, 66, 70]]) # 5*3 Matrix\n",
        "y_train = torch.FloatTensor([[152], [185], [180], [196], [142]]) # 5*1 Matix\n",
        "\n",
        "W = torch.zeros((3,1), requires_grad = True) # 3*1 Weight Matrix\n",
        "b = torch.zeros(1, requires_grad = True) # 1 Bias Scalar\n",
        "\n",
        "optimizer = optim.SGD([W, b], lr=1e-5)\n",
        "\n",
        "nb_epochs = 2000\n",
        "for epoch in range(nb_epochs + 1):\n",
        "  hypothesis = x_train@W + b #x_train.matmul(W) + b\n",
        "  cost = torch.mean((y_train - hypothesis)**2)\n",
        "  cost.backward()\n",
        "  optimizer.step()\n",
        "  optimizer.zero_grad()\n",
        "  if epoch % 200 == 0:\n",
        "    print('Epoch: {:4d}/{} hypothesis: {} Cost: {:6f}'.format(\n",
        "       epoch, nb_epochs, hypothesis.detach().squeeze(), cost.item()\n",
        "   ))"
      ],
      "metadata": {
        "colab": {
          "base_uri": "https://localhost:8080/"
        },
        "id": "5ikz2evWUkBR",
        "outputId": "dfaaaf54-c730-4683-94b6-70f454c90ef8"
      },
      "execution_count": 20,
      "outputs": [
        {
          "output_type": "stream",
          "name": "stdout",
          "text": [
            "Epoch:    0/2000 hypothesis: tensor([0., 0., 0., 0., 0.]) Cost: 29661.800781\n",
            "Epoch:  200/2000 hypothesis: tensor([154.0278, 185.0649, 175.9335, 198.5128, 141.2284]) Cost: 5.512386\n",
            "Epoch:  400/2000 hypothesis: tensor([153.9960, 185.0133, 176.1295, 198.4022, 141.2426]) Cost: 5.061907\n",
            "Epoch:  600/2000 hypothesis: tensor([153.9632, 184.9662, 176.3143, 198.2966, 141.2586]) Cost: 4.652731\n",
            "Epoch:  800/2000 hypothesis: tensor([153.9296, 184.9232, 176.4888, 198.1958, 141.2762]) Cost: 4.280604\n",
            "Epoch: 1000/2000 hypothesis: tensor([153.8955, 184.8841, 176.6536, 198.0995, 141.2951]) Cost: 3.941853\n",
            "Epoch: 1200/2000 hypothesis: tensor([153.8608, 184.8486, 176.8092, 198.0075, 141.3153]) Cost: 3.633053\n",
            "Epoch: 1400/2000 hypothesis: tensor([153.8259, 184.8163, 176.9563, 197.9195, 141.3364]) Cost: 3.351316\n",
            "Epoch: 1600/2000 hypothesis: tensor([153.7908, 184.7870, 177.0953, 197.8355, 141.3584]) Cost: 3.093974\n",
            "Epoch: 1800/2000 hypothesis: tensor([153.7556, 184.7604, 177.2268, 197.7551, 141.3811]) Cost: 2.858673\n",
            "Epoch: 2000/2000 hypothesis: tensor([153.7204, 184.7364, 177.3512, 197.6782, 141.4043]) Cost: 2.643340\n"
          ]
        }
      ]
    },
    {
      "cell_type": "code",
      "source": [
        "import torch\n",
        "import torch.nn as nn\n",
        "import torch.nn.functional as F\n",
        "\n",
        "torch.manual_seed(7)\n",
        "\n",
        "x_train = torch.FloatTensor([[1], [2], [3]]) # 3*1 Matrix\n",
        "y_train = torch.FloatTensor([[2], [4],[6]])\n",
        "\n",
        "linear_model = nn.Linear(1,1) #input_dim = 1, output_dim = 1\n",
        "print(list(linear_model.parameters())) # 첫번째 값이 W이고, 두번째 값이 b에 해당된다. 현재 랜덤 초기화 되어져있음.\n",
        "\n",
        "optimizer = torch.optim.SGD(linear_model.parameters(), lr=0.01)\n",
        "nb_epochs = 2000\n",
        "for epoch in range(nb_epochs+1):\n",
        "  hypothesis = linear_model(x_train)\n",
        "  cost = F.mse_loss(y_train, hypothesis) # PyTorch에서 제공하는 MSE Loss Function\n",
        "  cost.backward()\n",
        "  optimizer.step()\n",
        "  optimizer.zero_grad()\n",
        "\n",
        "  if epoch % 100 == 0:\n",
        "    print('Epoch: {:4d}/{} Cost; {:.6f}'.format(\n",
        "        epoch, nb_epochs, cost.item()\n",
        "    ))\n",
        "\n",
        "new_var = torch.FloatTensor([4.0])\n",
        "print(linear_model(new_var))\n",
        "print(list(linear_model.parameters()))"
      ],
      "metadata": {
        "colab": {
          "base_uri": "https://localhost:8080/"
        },
        "id": "5-FCtydtXhnu",
        "outputId": "31c6c208-64ae-48e8-cfbb-b9ebc34597c2"
      },
      "execution_count": 26,
      "outputs": [
        {
          "output_type": "stream",
          "name": "stdout",
          "text": [
            "[Parameter containing:\n",
            "tensor([[0.0698]], requires_grad=True), Parameter containing:\n",
            "tensor([-0.6024], requires_grad=True)]\n",
            "Epoch:    0/2000 Cost; 22.399389\n",
            "Epoch:  100/2000 Cost; 0.003787\n",
            "Epoch:  200/2000 Cost; 0.002340\n",
            "Epoch:  300/2000 Cost; 0.001446\n",
            "Epoch:  400/2000 Cost; 0.000894\n",
            "Epoch:  500/2000 Cost; 0.000552\n",
            "Epoch:  600/2000 Cost; 0.000341\n",
            "Epoch:  700/2000 Cost; 0.000211\n",
            "Epoch:  800/2000 Cost; 0.000130\n",
            "Epoch:  900/2000 Cost; 0.000081\n",
            "Epoch: 1000/2000 Cost; 0.000050\n",
            "Epoch: 1100/2000 Cost; 0.000031\n",
            "Epoch: 1200/2000 Cost; 0.000019\n",
            "Epoch: 1300/2000 Cost; 0.000012\n",
            "Epoch: 1400/2000 Cost; 0.000007\n",
            "Epoch: 1500/2000 Cost; 0.000004\n",
            "Epoch: 1600/2000 Cost; 0.000003\n",
            "Epoch: 1700/2000 Cost; 0.000002\n",
            "Epoch: 1800/2000 Cost; 0.000001\n",
            "Epoch: 1900/2000 Cost; 0.000001\n",
            "Epoch: 2000/2000 Cost; 0.000000\n",
            "tensor([7.9987], grad_fn=<AddBackward0>)\n",
            "[Parameter containing:\n",
            "tensor([[1.9993]], requires_grad=True), Parameter containing:\n",
            "tensor([0.0017], requires_grad=True)]\n"
          ]
        }
      ]
    },
    {
      "cell_type": "code",
      "source": [
        "# h = w1x1 + w2x2 + w3x3 + b\n",
        "\n",
        "import torch\n",
        "import torch.nn as nn\n",
        "import torch.nn.functional as F\n",
        "import torch.optim as optim\n",
        "\n",
        "torch.manual_seed(7)\n",
        "\n",
        "x_train = torch.FloatTensor([[73, 80, 75],\n",
        "                             [93, 88, 93],\n",
        "                             [89, 91, 90],\n",
        "                             [96, 98, 100],\n",
        "                             [73, 66, 70]])\n",
        "y_train = torch.FloatTensor([[152], [185], [180], [196], [142]])\n",
        "\n",
        "model = nn.Linear(3,1) # 3개의 독립변수 -> 1개의 종속변수 (자동으로 3개의 Weight와 1개의 Bias생성)\n",
        "optimizer = torch.optim.SGD(model.parameters(), lr=1e-5)\n",
        "\n",
        "nb_epochs = 2000\n",
        "for epoch in range(nb_epochs+1):\n",
        "  hypothesis = model(x_train)\n",
        "  cost = F.mse_loss(hypothesis, y_train)\n",
        "  cost.backward()\n",
        "  optimizer.step()\n",
        "  optimizer.zero_grad()\n",
        "\n",
        "  if epoch % 200 == 0:\n",
        "    print(\"Epoch: {:4d}/{}  Cost: {:.6f}\".format(\n",
        "        epoch, nb_epochs, cost.item()\n",
        "        ))\n",
        "\n",
        "new_var = torch.FloatTensor([[73, 80, 75]])\n",
        "pred_y = model(new_var)\n",
        "print(pred_y)"
      ],
      "metadata": {
        "colab": {
          "base_uri": "https://localhost:8080/"
        },
        "id": "3tVg6KVVeh2O",
        "outputId": "9e20328a-47e9-4632-b465-3899fd0a1350"
      },
      "execution_count": 33,
      "outputs": [
        {
          "output_type": "stream",
          "name": "stdout",
          "text": [
            "Epoch:    0/2000  Cost: 33262.988281\n",
            "Epoch:  200/2000  Cost: 0.546068\n",
            "Epoch:  400/2000  Cost: 0.542168\n",
            "Epoch:  600/2000  Cost: 0.538318\n",
            "Epoch:  800/2000  Cost: 0.534520\n",
            "Epoch: 1000/2000  Cost: 0.530773\n",
            "Epoch: 1200/2000  Cost: 0.527079\n",
            "Epoch: 1400/2000  Cost: 0.523428\n",
            "Epoch: 1600/2000  Cost: 0.519832\n",
            "Epoch: 1800/2000  Cost: 0.516275\n",
            "Epoch: 2000/2000  Cost: 0.512770\n",
            "tensor([[150.9699]], grad_fn=<AddmmBackward0>)\n"
          ]
        }
      ]
    },
    {
      "cell_type": "code",
      "source": [
        "print(list(model.parameters()))\n"
      ],
      "metadata": {
        "colab": {
          "base_uri": "https://localhost:8080/"
        },
        "id": "G2yX3OwNxgNV",
        "outputId": "7540c699-f2cd-4e21-fe6b-792fd22b5e0f"
      },
      "execution_count": 34,
      "outputs": [
        {
          "output_type": "stream",
          "name": "stdout",
          "text": [
            "[Parameter containing:\n",
            "tensor([[0.7587, 0.3700, 0.8773]], requires_grad=True), Parameter containing:\n",
            "tensor([0.1925], requires_grad=True)]\n"
          ]
        }
      ]
    },
    {
      "cell_type": "code",
      "source": [
        "class LinearRegressionModel(nn.Module): # mm.Module을 상속받는다.\n",
        "  def __init__(self):\n",
        "    super().__init__() ##nn.Module을 initialize\n",
        "    self.linear = nn.Linear(1,1) #단순 선형회귀\n",
        "\n",
        "  def forward(self, x):\n",
        "    return self.linear(x)\n",
        "\n",
        "model = LinearRegressionModel()"
      ],
      "metadata": {
        "id": "3sCSQSMfyzGq"
      },
      "execution_count": 35,
      "outputs": []
    },
    {
      "cell_type": "code",
      "source": [
        "class MultivariateLinearRegressionModel(nn.Module): # mm.Module을 상속받는다.\n",
        "  def __init__(self):\n",
        "    super().__init__() ##nn.Module을 initialize\n",
        "    self.linear = nn.Linear(3,1) #다중 선형회귀 (독립변수 3개)\n",
        "\n",
        "  def forward(self, x):\n",
        "    return self.linear(x)\n",
        "\n",
        "model = MultivariateLinearRegressionModel()"
      ],
      "metadata": {
        "id": "KAmdnNpI0827"
      },
      "execution_count": 36,
      "outputs": []
    },
    {
      "cell_type": "code",
      "source": [
        "import torch\n",
        "import torch.nn as nn\n",
        "import torch.nn.functional as F\n",
        "import torch.optim as optim\n",
        "\n",
        "torch.manual_seed(7)\n",
        "\n",
        "x_train = torch.FloatTensor([[1], [2], [3]]) # 3*1 Matrix\n",
        "y_train = torch.FloatTensor([[2], [4], [6]])\n",
        "\n",
        "class LinearRegressionModel(nn.Module):\n",
        "  def __init__(self):\n",
        "    super().__init__()\n",
        "    self.linear = nn.Linear(1,1)\n",
        "  def forward(self, x):\n",
        "    return self.linear(x)\n",
        "\n",
        "model = LinearRegressionModel()\n",
        "\n",
        "optimizer = optim.SGD(model.parameters(), lr=0.01)\n",
        "\n",
        "nb_epochs = 2000\n",
        "for epoch in range(nb_epochs+1):\n",
        "  hypothesis = model(x_train)\n",
        "  cost = F.mse_loss(y_train, hypothesis)\n",
        "  cost.backward()\n",
        "  optimizer.step()\n",
        "  optimizer.zero_grad()\n",
        "\n",
        "  if epoch % 200 == 0:\n",
        "    print(\"Epoch: {:4d}/{} Cost: {:.6f}\".format(\n",
        "        epoch, nb_epochs, cost.item()\n",
        "    ))\n"
      ],
      "metadata": {
        "colab": {
          "base_uri": "https://localhost:8080/"
        },
        "id": "o5w5Gcl51m3r",
        "outputId": "f8661d5d-768f-4d26-ed81-572aad5bfdfe"
      },
      "execution_count": 37,
      "outputs": [
        {
          "output_type": "stream",
          "name": "stdout",
          "text": [
            "Epoch:    0/2000 Cost: 22.399389\n",
            "Epoch:  200/2000 Cost: 0.002340\n",
            "Epoch:  400/2000 Cost: 0.000894\n",
            "Epoch:  600/2000 Cost: 0.000341\n",
            "Epoch:  800/2000 Cost: 0.000130\n",
            "Epoch: 1000/2000 Cost: 0.000050\n",
            "Epoch: 1200/2000 Cost: 0.000019\n",
            "Epoch: 1400/2000 Cost: 0.000007\n",
            "Epoch: 1600/2000 Cost: 0.000003\n",
            "Epoch: 1800/2000 Cost: 0.000001\n",
            "Epoch: 2000/2000 Cost: 0.000000\n"
          ]
        }
      ]
    },
    {
      "cell_type": "markdown",
      "source": [
        "PyTorch에서는 데이터를 조금 더 쉽게 다룰 수 있도록 유용한 도구로서 Dataset, Dataloader를 제공한다. 이를 사용하면 Mini Batch Training, Data Shuffle, Parallel Computing까지 간편하게 수행할 수 있다. "
      ],
      "metadata": {
        "id": "7kOMtbl3-Edu"
      }
    },
    {
      "cell_type": "code",
      "source": [
        "import torch\n",
        "import torch.nn as nn\n",
        "import torch.nn.functional as F\n",
        "\n",
        "from torch.utils.data import TensorDataset\n",
        "from torch.utils.data import DataLoader\n",
        "\n",
        "torch.manual_seed(7)\n",
        "\n",
        "x_train  =  torch.FloatTensor([[73,  80,  75], \n",
        "                               [93,  88,  93], \n",
        "                               [89,  91,  90], \n",
        "                               [96,  98,  100],   \n",
        "                               [73,  66,  70]])  \n",
        "y_train  =  torch.FloatTensor([[152],  [185],  [180],  [196],  [142]])\n",
        "\n",
        "dataset = TensorDataset(x_train, y_train)\n",
        "dataloader = DataLoader(dataset, batch_size=2, shuffle=True)\n",
        "\n",
        "model = nn.Linear(3,1)\n",
        "optimizer = torch.optim.SGD(model.parameters(), lr=1e-5)\n",
        "\n",
        "nb_epochs = 2000\n",
        "for epoch in range(nb_epochs+1):\n",
        "  for batch_idx, samples in enumerate(dataloader):\n",
        "    x_train, y_train = samples\n",
        "    hypothesis = model(x_train)\n",
        "    cost = F.mse_loss(y_train, hypothesis)\n",
        "    cost.backward()\n",
        "    optimizer.step()\n",
        "    optimizer.zero_grad()\n",
        "    if epoch %200 == 0:\n",
        "      print('Epoch: {:4d}/{} Batch {}/{} Cost: {:.6f}'.format(\n",
        "          epoch, nb_epochs, batch_idx+1, len(dataloader), cost.item()\n",
        "      ))                       "
      ],
      "metadata": {
        "colab": {
          "base_uri": "https://localhost:8080/"
        },
        "id": "FzGoEnus2hQs",
        "outputId": "7e4456d4-6909-417a-fb3f-e623a17036f1"
      },
      "execution_count": 39,
      "outputs": [
        {
          "output_type": "stream",
          "name": "stdout",
          "text": [
            "Epoch:    0/2000 Batch 1/3 Cost: 32200.000000\n",
            "Epoch:    0/2000 Batch 2/3 Cost: 10772.237305\n",
            "Epoch:    0/2000 Batch 3/3 Cost: 3877.232178\n",
            "Epoch:  200/2000 Batch 1/3 Cost: 0.172066\n",
            "Epoch:  200/2000 Batch 2/3 Cost: 0.551074\n",
            "Epoch:  200/2000 Batch 3/3 Cost: 1.652254\n",
            "Epoch:  400/2000 Batch 1/3 Cost: 0.531310\n",
            "Epoch:  400/2000 Batch 2/3 Cost: 0.095382\n",
            "Epoch:  400/2000 Batch 3/3 Cost: 1.771422\n",
            "Epoch:  600/2000 Batch 1/3 Cost: 1.114294\n",
            "Epoch:  600/2000 Batch 2/3 Cost: 0.076323\n",
            "Epoch:  600/2000 Batch 3/3 Cost: 0.556246\n",
            "Epoch:  800/2000 Batch 1/3 Cost: 0.102601\n",
            "Epoch:  800/2000 Batch 2/3 Cost: 0.692143\n",
            "Epoch:  800/2000 Batch 3/3 Cost: 1.809275\n",
            "Epoch: 1000/2000 Batch 1/3 Cost: 1.265739\n",
            "Epoch: 1000/2000 Batch 2/3 Cost: 0.691888\n",
            "Epoch: 1000/2000 Batch 3/3 Cost: 0.225225\n",
            "Epoch: 1200/2000 Batch 1/3 Cost: 0.073774\n",
            "Epoch: 1200/2000 Batch 2/3 Cost: 1.150093\n",
            "Epoch: 1200/2000 Batch 3/3 Cost: 1.308415\n",
            "Epoch: 1400/2000 Batch 1/3 Cost: 0.871189\n",
            "Epoch: 1400/2000 Batch 2/3 Cost: 0.535442\n",
            "Epoch: 1400/2000 Batch 3/3 Cost: 0.000100\n",
            "Epoch: 1600/2000 Batch 1/3 Cost: 0.314973\n",
            "Epoch: 1600/2000 Batch 2/3 Cost: 0.929276\n",
            "Epoch: 1600/2000 Batch 3/3 Cost: 0.180991\n",
            "Epoch: 1800/2000 Batch 1/3 Cost: 0.320654\n",
            "Epoch: 1800/2000 Batch 2/3 Cost: 0.533143\n",
            "Epoch: 1800/2000 Batch 3/3 Cost: 1.103051\n",
            "Epoch: 2000/2000 Batch 1/3 Cost: 0.167058\n",
            "Epoch: 2000/2000 Batch 2/3 Cost: 0.482266\n",
            "Epoch: 2000/2000 Batch 3/3 Cost: 1.244258\n"
          ]
        }
      ]
    },
    {
      "cell_type": "code",
      "source": [
        "new_var = torch.FloatTensor([[73, 80, 75]])\n",
        "pred_y = model(new_var)\n",
        "print(\"Training 마친 후, 입력이 73, 80, 75일때 Score 예측값: {} \".format(pred_y))"
      ],
      "metadata": {
        "colab": {
          "base_uri": "https://localhost:8080/"
        },
        "id": "or8yGmXi_ePZ",
        "outputId": "91655eea-3b82-4b29-c1a3-60fdc0cff4d2"
      },
      "execution_count": 41,
      "outputs": [
        {
          "output_type": "stream",
          "name": "stdout",
          "text": [
            "Training 마친 후, 입력이 73, 80, 75일때 Score 예측값: tensor([[150.7032]], grad_fn=<AddmmBackward0>) \n"
          ]
        }
      ]
    },
    {
      "cell_type": "markdown",
      "source": [
        "**Logistic Regression**\n",
        "\n",
        "\n",
        "> Binary Classification을 풀기위한 대표적인 알고리즘\n",
        "\n"
      ],
      "metadata": {
        "id": "tFB8YDuBCBMs"
      }
    },
    {
      "cell_type": "code",
      "source": [
        "import torch\n",
        "import torch.nn as nn\n",
        "import torch.nn.functional as F\n",
        "import torch.optim as optim\n",
        "\n",
        "torch.manual_seed(7)\n",
        "\n",
        "x_data = [[1, 2], [2, 3], [3, 1], [4, 3], [5, 3], [6, 2]] # 6*2 matrix\n",
        "y_data = [[0], [0], [0], [1], [1], [1]] # 6*1 matrix\n",
        "\n",
        "x_train = torch.FloatTensor(x_data)\n",
        "y_train = torch.FloatTensor(y_data)\n",
        "\n",
        "W = torch.zeros((2,1), requires_grad = True)\n",
        "b = torch.zeros(1, requires_grad = True)\n",
        "\n",
        "# Logistic Regression (Sigmoid FUnction)\n",
        "hypothesis = 1 / (1 + torch.exp(-(x_train@W + b))) # 6*1\n",
        "\n",
        "print(hypothesis)\n"
      ],
      "metadata": {
        "colab": {
          "base_uri": "https://localhost:8080/"
        },
        "id": "8meoUqi7AHy5",
        "outputId": "89115056-5409-47aa-e737-adbb0b54548d"
      },
      "execution_count": 42,
      "outputs": [
        {
          "output_type": "stream",
          "name": "stdout",
          "text": [
            "tensor([[0.5000],\n",
            "        [0.5000],\n",
            "        [0.5000],\n",
            "        [0.5000],\n",
            "        [0.5000],\n",
            "        [0.5000]], grad_fn=<MulBackward0>)\n"
          ]
        }
      ]
    },
    {
      "cell_type": "code",
      "source": [
        "hypothesis = torch.sigmoid(x_train@W + b)\n",
        "print(hypothesis)"
      ],
      "metadata": {
        "colab": {
          "base_uri": "https://localhost:8080/"
        },
        "id": "Piftbfg7Hl8Q",
        "outputId": "0b4d5beb-a22c-469d-ff03-a4d856997db9"
      },
      "execution_count": 43,
      "outputs": [
        {
          "output_type": "stream",
          "name": "stdout",
          "text": [
            "tensor([[0.5000],\n",
            "        [0.5000],\n",
            "        [0.5000],\n",
            "        [0.5000],\n",
            "        [0.5000],\n",
            "        [0.5000]], grad_fn=<SigmoidBackward0>)\n"
          ]
        }
      ]
    },
    {
      "cell_type": "code",
      "source": [
        "loss = -(y_train * torch.log(hypothesis)) + (y_train-1)*torch.log(1-hypothesis)\n",
        "cost = loss.mean()\n",
        "print(cost)"
      ],
      "metadata": {
        "colab": {
          "base_uri": "https://localhost:8080/"
        },
        "id": "BXjRgRnIH0Ff",
        "outputId": "755572e4-f6e1-49bd-a6bf-2ea045bc5cfc"
      },
      "execution_count": 46,
      "outputs": [
        {
          "output_type": "stream",
          "name": "stdout",
          "text": [
            "tensor(0.6931, grad_fn=<MeanBackward0>)\n"
          ]
        }
      ]
    },
    {
      "cell_type": "code",
      "source": [
        "import torch\n",
        "import torch.nn.functional as F\n",
        "\n",
        "x_data = [[1, 2], [2, 3], [3, 1], [4, 3], [5, 3], [6, 2]]\n",
        "y_data = [[0], [0], [0], [1], [1], [1]]\n",
        "x_train = torch.FloatTensor(x_data)\n",
        "y_train = torch.FloatTensor(y_data)\n",
        "W = torch.zeros((2,1), requires_grad = True)\n",
        "b = torch.zeros(1, requires_grad = True)\n",
        "optimizer = optim.SGD([W,b], lr=1e-3)\n",
        "nb_epochs = 100000\n",
        "for epoch in range(nb_epochs + 1):\n",
        "  hypothesis = torch.sigmoid(x_train@W + b)\n",
        "  cost = -(y_train * torch.log(hypothesis) + \n",
        "             (1 - y_train) * torch.log(1 - hypothesis)).mean()\n",
        "  # cost = F.binary_cross_entropy(hypothesis, y_train)\n",
        "  cost.backward()\n",
        "  optimizer.step()\n",
        "  optimizer.zero_grad()\n",
        "  if epoch %10000 == 0:\n",
        "    print(\"Epoch: {}/{}  Cost: {:.6f}\".format(\n",
        "        epoch, nb_epochs, cost.item()\n",
        "    ))"
      ],
      "metadata": {
        "colab": {
          "base_uri": "https://localhost:8080/"
        },
        "id": "ByQDRP7LI_5l",
        "outputId": "2418fd46-cfe5-4483-ace3-6e89ac961dc1"
      },
      "execution_count": 55,
      "outputs": [
        {
          "output_type": "stream",
          "name": "stdout",
          "text": [
            "Epoch: 0/100000  Cost: 0.693147\n",
            "Epoch: 10000/100000  Cost: 0.414506\n",
            "Epoch: 20000/100000  Cost: 0.349616\n",
            "Epoch: 30000/100000  Cost: 0.301398\n",
            "Epoch: 40000/100000  Cost: 0.263630\n",
            "Epoch: 50000/100000  Cost: 0.233613\n",
            "Epoch: 60000/100000  Cost: 0.209403\n",
            "Epoch: 70000/100000  Cost: 0.189579\n",
            "Epoch: 80000/100000  Cost: 0.173116\n",
            "Epoch: 90000/100000  Cost: 0.159255\n",
            "Epoch: 100000/100000  Cost: 0.147444\n"
          ]
        }
      ]
    },
    {
      "cell_type": "code",
      "source": [
        "hypothesis = torch.sigmoid(x_train@W + b)\n",
        "print(hypothesis)"
      ],
      "metadata": {
        "colab": {
          "base_uri": "https://localhost:8080/"
        },
        "id": "T83eaOduJ4xy",
        "outputId": "e36a23f7-6689-4d95-9447-d8b683d55162"
      },
      "execution_count": 56,
      "outputs": [
        {
          "output_type": "stream",
          "name": "stdout",
          "text": [
            "tensor([[0.0299],\n",
            "        [0.1577],\n",
            "        [0.3007],\n",
            "        [0.7833],\n",
            "        [0.9408],\n",
            "        [0.9806]], grad_fn=<SigmoidBackward0>)\n"
          ]
        }
      ]
    },
    {
      "cell_type": "code",
      "source": [
        "prediction = hypothesis >= torch.FloatTensor([0.5])\n",
        "print(prediction)"
      ],
      "metadata": {
        "colab": {
          "base_uri": "https://localhost:8080/"
        },
        "id": "NgX5dtyfKivK",
        "outputId": "f293f0ff-3f87-461f-db06-8f92fffcf832"
      },
      "execution_count": 57,
      "outputs": [
        {
          "output_type": "stream",
          "name": "stdout",
          "text": [
            "tensor([[False],\n",
            "        [False],\n",
            "        [False],\n",
            "        [ True],\n",
            "        [ True],\n",
            "        [ True]])\n"
          ]
        }
      ]
    },
    {
      "cell_type": "code",
      "source": [
        "print('W: ', W)\n",
        "print('b: ', b)"
      ],
      "metadata": {
        "colab": {
          "base_uri": "https://localhost:8080/"
        },
        "id": "KCmcdw0fKpg6",
        "outputId": "ba71bc00-fb42-4caf-9075-986786773914"
      },
      "execution_count": 54,
      "outputs": [
        {
          "output_type": "stream",
          "name": "stdout",
          "text": [
            "W:  tensor([[ 0.7762],\n",
            "        [-0.5155]], requires_grad=True)\n",
            "b:  tensor([-1.0282], requires_grad=True)\n"
          ]
        }
      ]
    },
    {
      "cell_type": "code",
      "source": [
        "import torch\n",
        "import torch.nn as nn\n",
        "import torch.nn.functional as F\n",
        "import torch.optim as optim\n",
        "\n",
        "torch.manual_seed(7)\n",
        "\n",
        "x_data = [[1, 2], [2, 3], [3, 1], [4, 3], [5, 3], [6, 2]] #6*2 Matrix\n",
        "y_data = [[0], [0], [0], [1], [1], [1]] # 6*1 Matrix\n",
        "x_train = torch.FloatTensor(x_data)\n",
        "y_train = torch.FloatTensor(y_data)\n",
        "\n",
        "hypothesis_model = nn.Sequential(\n",
        "    nn.Linear(2,1), # input_dim = 2, output_dim = 1\n",
        "    nn.Sigmoid()\n",
        ")\n",
        "\n",
        "print(hypothesis_model(x_train))"
      ],
      "metadata": {
        "colab": {
          "base_uri": "https://localhost:8080/"
        },
        "id": "CO_E6eH5KxRa",
        "outputId": "bb0c10c2-a4c4-4b6c-dff1-3cbbf3d0356a"
      },
      "execution_count": 58,
      "outputs": [
        {
          "output_type": "stream",
          "name": "stdout",
          "text": [
            "tensor([[0.3595],\n",
            "        [0.2781],\n",
            "        [0.4868],\n",
            "        [0.2984],\n",
            "        [0.3088],\n",
            "        [0.4181]], grad_fn=<SigmoidBackward0>)\n"
          ]
        }
      ]
    },
    {
      "cell_type": "code",
      "source": [
        "optimizer = optim.SGD(hypothesis_model.parameters(), lr=1)\n",
        "nb_epochs = 1000\n",
        "for epoch in range(nb_epochs+1):\n",
        "  hypothesis = hypothesis_model(x_train)\n",
        "  cost = F.mse_loss(hypothesis, y_train)\n",
        "  cost.backward()\n",
        "  optimizer.step()\n",
        "  optimizer.zero_grad()\n",
        "\n",
        "  if epoch%100 == 0:\n",
        "    print('Epoch: {}/{} Cost: {:.6f}'.format(\n",
        "        epoch, nb_epochs, cost.item()\n",
        "    ))"
      ],
      "metadata": {
        "colab": {
          "base_uri": "https://localhost:8080/"
        },
        "id": "JZpYP7cMMm8n",
        "outputId": "e4c17998-cb3e-40e7-ec6b-eff8e50229ee"
      },
      "execution_count": 59,
      "outputs": [
        {
          "output_type": "stream",
          "name": "stdout",
          "text": [
            "Epoch: 0/1000 Cost: 0.292044\n",
            "Epoch: 100/1000 Cost: 0.069509\n",
            "Epoch: 200/1000 Cost: 0.037281\n",
            "Epoch: 300/1000 Cost: 0.025063\n",
            "Epoch: 400/1000 Cost: 0.018758\n",
            "Epoch: 500/1000 Cost: 0.014924\n",
            "Epoch: 600/1000 Cost: 0.012351\n",
            "Epoch: 700/1000 Cost: 0.010509\n",
            "Epoch: 800/1000 Cost: 0.009128\n",
            "Epoch: 900/1000 Cost: 0.008056\n",
            "Epoch: 1000/1000 Cost: 0.007200\n"
          ]
        }
      ]
    },
    {
      "cell_type": "code",
      "source": [
        "print('W:', W)\n",
        "print('b: ', b)"
      ],
      "metadata": {
        "colab": {
          "base_uri": "https://localhost:8080/"
        },
        "id": "pR11XDw-NFOT",
        "outputId": "76d2b9ef-719b-4479-bbc4-e031bc6eca79"
      },
      "execution_count": 60,
      "outputs": [
        {
          "output_type": "stream",
          "name": "stdout",
          "text": [
            "W: tensor([[1.4802],\n",
            "        [0.3242]], requires_grad=True)\n",
            "b:  tensor([-5.6085], requires_grad=True)\n"
          ]
        }
      ]
    },
    {
      "cell_type": "code",
      "source": [
        "logistic_model = nn.Sequential(\n",
        "    nn.Linear(2,1),\n",
        "    nn.Sigmoid()\n",
        ")\n",
        "\n",
        "class BinaryClassifier(nn.Module):\n",
        "  def __init__(self):\n",
        "    super().__init__()\n",
        "    self.linear = nn.Linear(2,1)\n",
        "    self.sigmoid = nn.Sigmoid()\n",
        "\n",
        "  def forward(self, x):\n",
        "    return self.sigmoid(self.linear(x))\n"
      ],
      "metadata": {
        "id": "YgQEKdq4NZGT"
      },
      "execution_count": 62,
      "outputs": []
    },
    {
      "cell_type": "code",
      "source": [
        "import torch\n",
        "import torch.nn as nn\n",
        "import torch.nn.functional as F\n",
        "import torch.optim as optim\n",
        "\n",
        "torch.manual_seed(7)\n",
        "\n",
        "x_data = [[1,2], [2,3], [3,1], [4,3], [5,3], [6,2]] # 6*2 Matrix\n",
        "y_data = [[0], [0], [0], [1],[1], [1]] # 6*1 Matrix\n",
        "x_train = torch.FloatTensor(x_data)\n",
        "y_train = torch.FloatTensor(y_data)\n",
        "\n",
        "model = BinaryClassifier()\n",
        "\n",
        "optimizer = optim.SGD(model.parameters(), lr=1)\n",
        "\n",
        "nb_epochs = 1000\n",
        "for epoch in range(nb_epochs +1):\n",
        "  hypothesis = model(x_train)\n",
        "  cost = F.binary_cross_entropy(hypothesis, y_train)\n",
        "  cost.backward()\n",
        "  optimizer.step()\n",
        "  optimizer.zero_grad()\n",
        "\n",
        "  if epoch % 20 == 0:\n",
        "    prediction = hypothesis >= torch.FloatTensor([0.5]) # 0.5이상 예측값이면 prediction이 True\n",
        "    correct_prediction = prediction.float() == y_train # 실제값과 비교\n",
        "    accuracy = correct_prediction.sum().item() / len(correct_prediction)\n",
        "    print('Epoch: {:4d}/{} Cost: {:.6f} Accuracy: {:2.2f}%'.format(\n",
        "        epoch, nb_epochs, cost.item(), accuracy*100\n",
        "    ))"
      ],
      "metadata": {
        "colab": {
          "base_uri": "https://localhost:8080/"
        },
        "id": "45hZgA3fSyxU",
        "outputId": "18aee03c-8592-4a1b-a200-aee5415756d0"
      },
      "execution_count": 64,
      "outputs": [
        {
          "output_type": "stream",
          "name": "stdout",
          "text": [
            "Epoch:    0/1000 Cost: 0.782520 Accuracy: 50.00%\n",
            "Epoch:   20/1000 Cost: 0.468117 Accuracy: 66.67%\n",
            "Epoch:   40/1000 Cost: 0.336204 Accuracy: 83.33%\n",
            "Epoch:   60/1000 Cost: 0.236619 Accuracy: 100.00%\n",
            "Epoch:   80/1000 Cost: 0.164581 Accuracy: 100.00%\n",
            "Epoch:  100/1000 Cost: 0.137689 Accuracy: 100.00%\n",
            "Epoch:  120/1000 Cost: 0.120925 Accuracy: 100.00%\n",
            "Epoch:  140/1000 Cost: 0.107864 Accuracy: 100.00%\n",
            "Epoch:  160/1000 Cost: 0.097398 Accuracy: 100.00%\n",
            "Epoch:  180/1000 Cost: 0.088824 Accuracy: 100.00%\n",
            "Epoch:  200/1000 Cost: 0.081669 Accuracy: 100.00%\n",
            "Epoch:  220/1000 Cost: 0.075606 Accuracy: 100.00%\n",
            "Epoch:  240/1000 Cost: 0.070401 Accuracy: 100.00%\n",
            "Epoch:  260/1000 Cost: 0.065882 Accuracy: 100.00%\n",
            "Epoch:  280/1000 Cost: 0.061920 Accuracy: 100.00%\n",
            "Epoch:  300/1000 Cost: 0.058418 Accuracy: 100.00%\n",
            "Epoch:  320/1000 Cost: 0.055299 Accuracy: 100.00%\n",
            "Epoch:  340/1000 Cost: 0.052503 Accuracy: 100.00%\n",
            "Epoch:  360/1000 Cost: 0.049981 Accuracy: 100.00%\n",
            "Epoch:  380/1000 Cost: 0.047695 Accuracy: 100.00%\n",
            "Epoch:  400/1000 Cost: 0.045613 Accuracy: 100.00%\n",
            "Epoch:  420/1000 Cost: 0.043708 Accuracy: 100.00%\n",
            "Epoch:  440/1000 Cost: 0.041958 Accuracy: 100.00%\n",
            "Epoch:  460/1000 Cost: 0.040346 Accuracy: 100.00%\n",
            "Epoch:  480/1000 Cost: 0.038854 Accuracy: 100.00%\n",
            "Epoch:  500/1000 Cost: 0.037471 Accuracy: 100.00%\n",
            "Epoch:  520/1000 Cost: 0.036184 Accuracy: 100.00%\n",
            "Epoch:  540/1000 Cost: 0.034984 Accuracy: 100.00%\n",
            "Epoch:  560/1000 Cost: 0.033862 Accuracy: 100.00%\n",
            "Epoch:  580/1000 Cost: 0.032811 Accuracy: 100.00%\n",
            "Epoch:  600/1000 Cost: 0.031823 Accuracy: 100.00%\n",
            "Epoch:  620/1000 Cost: 0.030895 Accuracy: 100.00%\n",
            "Epoch:  640/1000 Cost: 0.030019 Accuracy: 100.00%\n",
            "Epoch:  660/1000 Cost: 0.029192 Accuracy: 100.00%\n",
            "Epoch:  680/1000 Cost: 0.028410 Accuracy: 100.00%\n",
            "Epoch:  700/1000 Cost: 0.027670 Accuracy: 100.00%\n",
            "Epoch:  720/1000 Cost: 0.026967 Accuracy: 100.00%\n",
            "Epoch:  740/1000 Cost: 0.026300 Accuracy: 100.00%\n",
            "Epoch:  760/1000 Cost: 0.025665 Accuracy: 100.00%\n",
            "Epoch:  780/1000 Cost: 0.025060 Accuracy: 100.00%\n",
            "Epoch:  800/1000 Cost: 0.024483 Accuracy: 100.00%\n",
            "Epoch:  820/1000 Cost: 0.023933 Accuracy: 100.00%\n",
            "Epoch:  840/1000 Cost: 0.023407 Accuracy: 100.00%\n",
            "Epoch:  860/1000 Cost: 0.022903 Accuracy: 100.00%\n",
            "Epoch:  880/1000 Cost: 0.022422 Accuracy: 100.00%\n",
            "Epoch:  900/1000 Cost: 0.021960 Accuracy: 100.00%\n",
            "Epoch:  920/1000 Cost: 0.021517 Accuracy: 100.00%\n",
            "Epoch:  940/1000 Cost: 0.021091 Accuracy: 100.00%\n",
            "Epoch:  960/1000 Cost: 0.020682 Accuracy: 100.00%\n",
            "Epoch:  980/1000 Cost: 0.020289 Accuracy: 100.00%\n",
            "Epoch: 1000/1000 Cost: 0.019911 Accuracy: 100.00%\n"
          ]
        }
      ]
    },
    {
      "cell_type": "markdown",
      "source": [
        "**Softmax Regression**\n",
        "3개 이상의 선택지로부터 1개를 선택하는 문제인 다중클래스분류를 풀기 위한 소프트맥스 회귀"
      ],
      "metadata": {
        "id": "i1Sq0Vz_WHHP"
      }
    },
    {
      "cell_type": "code",
      "source": [
        "# 일반적인 분류 문제에서는 각 클래스는 순서의 의미를 갖고있지 않으므로 각 클래스 간의 오차는 균등한 것이 옳다. \n",
        "# 따라서 정수 인코딩 보다는 One-Hot Encoding을 사용하는 것이 균등하게 클래스를 분류할 수 있는 것이다.\n",
        "\n",
        "# 앞에서는 Logistic Regression을 통해 2개의 선택지 중 1개를 고르는 Binary Classification을 풀어보았고\n",
        "# 현재는 Softmax Regression을 통해 3개 이상의 선택지 중 1개를 고르는 Multi-Class Classification을 풀어보자.\n",
        "\n",
        "# 붓꽃 품종 분류하기 (Setosa, Versicolor, Virginica)\n",
        "\n",
        "# 소프트맥스 회귀의 비용함수 구현하기\n",
        "\n",
        "import torch\n",
        "import torch.nn.functional as F\n",
        "torch.manual_seed(7)\n",
        "\n",
        "z = torch.FloatTensor([1,2,3])\n",
        "hypothesis = F.softmax(z, dim=0)\n",
        "print(hypothesis)"
      ],
      "metadata": {
        "colab": {
          "base_uri": "https://localhost:8080/"
        },
        "id": "bwhPjmB0V7VH",
        "outputId": "51f4e575-b2e5-4c10-b2e4-d19755082fa6"
      },
      "execution_count": 65,
      "outputs": [
        {
          "output_type": "stream",
          "name": "stdout",
          "text": [
            "tensor([0.0900, 0.2447, 0.6652])\n"
          ]
        }
      ]
    },
    {
      "cell_type": "code",
      "source": [
        "hypothesis.sum()"
      ],
      "metadata": {
        "colab": {
          "base_uri": "https://localhost:8080/"
        },
        "id": "yEM44xd1nTGf",
        "outputId": "98131117-d93a-4964-a166-fa4c93f3aaa3"
      },
      "execution_count": 66,
      "outputs": [
        {
          "output_type": "execute_result",
          "data": {
            "text/plain": [
              "tensor(1.)"
            ]
          },
          "metadata": {},
          "execution_count": 66
        }
      ]
    },
    {
      "cell_type": "code",
      "source": [
        "z = torch.rand(3, 5, requires_grad = True) # 3*5 Matrix Tensor 임의로 생성\n",
        "hypothesis = F.softmax(z, dim=1)\n",
        "print(hypothesis)"
      ],
      "metadata": {
        "colab": {
          "base_uri": "https://localhost:8080/"
        },
        "id": "zWNodLkvncVG",
        "outputId": "18ba21f3-7cbc-449f-f384-9d3a65611b66"
      },
      "execution_count": 69,
      "outputs": [
        {
          "output_type": "stream",
          "name": "stdout",
          "text": [
            "tensor([[0.1723, 0.2472, 0.1294, 0.3172, 0.1340],\n",
            "        [0.2480, 0.1551, 0.2187, 0.2055, 0.1727],\n",
            "        [0.1933, 0.2574, 0.2002, 0.2295, 0.1196]], grad_fn=<SoftmaxBackward0>)\n"
          ]
        }
      ]
    },
    {
      "cell_type": "code",
      "source": [
        "import torch\n",
        "import torchvision.datasets as dsets\n",
        "import torchvision.transforms as transforms\n",
        "from torch.utils.data import DataLoader\n",
        "import torch.nn as nn\n",
        "import matplotlib.pyplot as plt\n",
        "import random"
      ],
      "metadata": {
        "id": "2Dz1Xl1lnf9P"
      },
      "execution_count": 2,
      "outputs": []
    },
    {
      "cell_type": "code",
      "source": [
        "USE_CUDA = torch.cuda.is_available() # GPU를 사용가능하면 True, 아니라면 False를 리턴\n",
        "device = torch.device(\"cuda\" if USE_CUDA else \"cpu\") # GPU 사용 가능하면 사용하고 아니면 CPU 사용\n",
        "print(\"다음 기기로 학습합니다:\", device)"
      ],
      "metadata": {
        "colab": {
          "base_uri": "https://localhost:8080/"
        },
        "id": "FfVwIHQXzMb2",
        "outputId": "1a59381c-a5a3-4017-b2c4-d064ac1f00a1"
      },
      "execution_count": 3,
      "outputs": [
        {
          "output_type": "stream",
          "name": "stdout",
          "text": [
            "다음 기기로 학습합니다: cuda\n"
          ]
        }
      ]
    },
    {
      "cell_type": "code",
      "source": [
        "random.seed(7)\n",
        "torch.manual_seed(7)\n",
        "if device == 'cuda':\n",
        "  torch.cuda.manual_seed_all(7)\n",
        "\n",
        "training_epochs = 15\n",
        "batch_size = 100\n",
        "\n",
        "# MNIST dataset\n",
        "mnist_train = dsets.MNIST(root='MNIST_data/',\n",
        "                          train=True,\n",
        "                          transform=transforms.ToTensor(),\n",
        "                          download=True)\n",
        "\n",
        "mnist_test = dsets.MNIST(root='MNIST_data/',\n",
        "                         train=False,\n",
        "                         transform=transforms.ToTensor(),\n",
        "                         download=True)"
      ],
      "metadata": {
        "colab": {
          "base_uri": "https://localhost:8080/",
          "height": 444,
          "referenced_widgets": [
            "8120cdcb712f4fb38922d0216fe9157a",
            "6ca7927da2484d48bbfbfa17fd7a610b",
            "d4226a54fe5046499199573d65196159",
            "55ca827a0bcd4b64b5add55a7d651d88",
            "3e8645f8d678447183181d80b24ae350",
            "c72a09314e424e2a8484a36fb17088f1",
            "d8576de45ca74c5ab8708052962a31cd",
            "12c094e8c9e2437f8f945e7794d6f497",
            "c9bfc6f081184abd8d860d386a7ab694",
            "a82000cfb36642539ffe6e4cfff52927",
            "e9350a047663478ca04ed208e475175f",
            "1ab6803a27a54f53a2bd422a7d0f7ddd",
            "0793dc7f61314787b89ea9219c77d38f",
            "23bbb078122e4b129163a26a7e6c37b9",
            "947537bba21e40f6b571418f1cb575a5",
            "327fe619e6014a038a54402010329f48",
            "bfb2082cbf02495b952a35d6a662359c",
            "671b2abd1e764781af3edf4de857968d",
            "fefa637caa90400486df7e6885a03a9d",
            "6de63cb7468e4b56a45558f00f381079",
            "f758237839154c9f889d44490a2d1d28",
            "87cbe4fb96b247fd93321d89136604ef",
            "31e22d8d837a45748da9cabfc66bff83",
            "02525345f0204ef888c9979b332d5860",
            "4128d021e2dd4ba6aedb318ab983e0e3",
            "098fd0ff3b944b6d81bcba4587baac69",
            "ea54ddb01c894f1bb05413b55aeb1e2f",
            "e090d60dd511473aba4d1de8e3efe351",
            "2f3b31ab1b104e2292f8e4bf9a251f2f",
            "a67bc6688f5a44c6bbde3680d1dfb99d",
            "84d6150619da4bacbc79467627f430f2",
            "032f4382634a450e8d10a0e4dbfc355e",
            "de51dfa6ae6c4c1e9514e8042f494f54",
            "45ea7aa7833e49129a6108b3369eeab6",
            "fa515357a0ed4ce798b394f0707263e5",
            "9dd5bbb43a9e400cbf7c84ed83b772f7",
            "598b62c909db487aa9d595f0c37dacee",
            "ffce3e3e6abc4cd0beaf5cad5c8bfba2",
            "fdae074a365249c9aa55b5f6af83694f",
            "f0ed6ea1a6e3410eb5f8e859048f54aa",
            "956f80efb2754d2499b31c0048bf0a05",
            "2ca72d1a416e42a79f2cebd3591ab3a3",
            "739e6cfd64304fa699532bd5d563c658",
            "edc3e481adda4d488e15002c2d8de689"
          ]
        },
        "id": "PtFGa9M0zPAO",
        "outputId": "531216fb-82b3-47a1-a0e5-e0c769ec099d"
      },
      "execution_count": 4,
      "outputs": [
        {
          "output_type": "stream",
          "name": "stdout",
          "text": [
            "Downloading http://yann.lecun.com/exdb/mnist/train-images-idx3-ubyte.gz\n",
            "Downloading http://yann.lecun.com/exdb/mnist/train-images-idx3-ubyte.gz to MNIST_data/MNIST/raw/train-images-idx3-ubyte.gz\n"
          ]
        },
        {
          "output_type": "display_data",
          "data": {
            "application/vnd.jupyter.widget-view+json": {
              "model_id": "8120cdcb712f4fb38922d0216fe9157a",
              "version_minor": 0,
              "version_major": 2
            },
            "text/plain": [
              "  0%|          | 0/9912422 [00:00<?, ?it/s]"
            ]
          },
          "metadata": {}
        },
        {
          "output_type": "stream",
          "name": "stdout",
          "text": [
            "Extracting MNIST_data/MNIST/raw/train-images-idx3-ubyte.gz to MNIST_data/MNIST/raw\n",
            "\n",
            "Downloading http://yann.lecun.com/exdb/mnist/train-labels-idx1-ubyte.gz\n",
            "Downloading http://yann.lecun.com/exdb/mnist/train-labels-idx1-ubyte.gz to MNIST_data/MNIST/raw/train-labels-idx1-ubyte.gz\n"
          ]
        },
        {
          "output_type": "display_data",
          "data": {
            "application/vnd.jupyter.widget-view+json": {
              "model_id": "1ab6803a27a54f53a2bd422a7d0f7ddd",
              "version_minor": 0,
              "version_major": 2
            },
            "text/plain": [
              "  0%|          | 0/28881 [00:00<?, ?it/s]"
            ]
          },
          "metadata": {}
        },
        {
          "output_type": "stream",
          "name": "stdout",
          "text": [
            "Extracting MNIST_data/MNIST/raw/train-labels-idx1-ubyte.gz to MNIST_data/MNIST/raw\n",
            "\n",
            "Downloading http://yann.lecun.com/exdb/mnist/t10k-images-idx3-ubyte.gz\n",
            "Downloading http://yann.lecun.com/exdb/mnist/t10k-images-idx3-ubyte.gz to MNIST_data/MNIST/raw/t10k-images-idx3-ubyte.gz\n"
          ]
        },
        {
          "output_type": "display_data",
          "data": {
            "application/vnd.jupyter.widget-view+json": {
              "model_id": "31e22d8d837a45748da9cabfc66bff83",
              "version_minor": 0,
              "version_major": 2
            },
            "text/plain": [
              "  0%|          | 0/1648877 [00:00<?, ?it/s]"
            ]
          },
          "metadata": {}
        },
        {
          "output_type": "stream",
          "name": "stdout",
          "text": [
            "Extracting MNIST_data/MNIST/raw/t10k-images-idx3-ubyte.gz to MNIST_data/MNIST/raw\n",
            "\n",
            "Downloading http://yann.lecun.com/exdb/mnist/t10k-labels-idx1-ubyte.gz\n",
            "Downloading http://yann.lecun.com/exdb/mnist/t10k-labels-idx1-ubyte.gz to MNIST_data/MNIST/raw/t10k-labels-idx1-ubyte.gz\n"
          ]
        },
        {
          "output_type": "display_data",
          "data": {
            "application/vnd.jupyter.widget-view+json": {
              "model_id": "45ea7aa7833e49129a6108b3369eeab6",
              "version_minor": 0,
              "version_major": 2
            },
            "text/plain": [
              "  0%|          | 0/4542 [00:00<?, ?it/s]"
            ]
          },
          "metadata": {}
        },
        {
          "output_type": "stream",
          "name": "stdout",
          "text": [
            "Extracting MNIST_data/MNIST/raw/t10k-labels-idx1-ubyte.gz to MNIST_data/MNIST/raw\n",
            "\n"
          ]
        }
      ]
    },
    {
      "cell_type": "code",
      "source": [
        "# dataset loader\n",
        "data_loader = DataLoader(dataset=mnist_train,\n",
        "                                          batch_size=batch_size, # 배치 크기는 100\n",
        "                                          shuffle=True,\n",
        "                                          drop_last=True)\n",
        "\n",
        "# MNIST data image of shape 28 * 28 = 784\n",
        "linear = nn.Linear(784, 10, bias=True).to(device)\n",
        "\n",
        "# 비용 함수와 옵티마이저 정의\n",
        "criterion = nn.CrossEntropyLoss().to(device) # 내부적으로 소프트맥스 함수를 포함하고 있음.\n",
        "optimizer = torch.optim.SGD(linear.parameters(), lr=0.1)"
      ],
      "metadata": {
        "id": "IgWZmvivzuFG"
      },
      "execution_count": 5,
      "outputs": []
    },
    {
      "cell_type": "code",
      "source": [
        "for epoch in range(training_epochs): # 앞서 training_epochs의 값은 15로 지정함.\n",
        "    avg_cost = 0\n",
        "    total_batch = len(data_loader)\n",
        "\n",
        "    for X, Y in data_loader:\n",
        "        # 배치 크기가 100이므로 아래의 연산에서 X는 (100, 784)의 텐서가 된다.\n",
        "        X = X.view(-1, 28 * 28).to(device)\n",
        "        # 레이블은 원-핫 인코딩이 된 상태가 아니라 0 ~ 9의 정수.\n",
        "        Y = Y.to(device)\n",
        "\n",
        "        optimizer.zero_grad()\n",
        "        hypothesis = linear(X)\n",
        "        cost = criterion(hypothesis, Y)\n",
        "        cost.backward()\n",
        "        optimizer.step()\n",
        "\n",
        "        avg_cost += cost / total_batch\n",
        "\n",
        "    print('Epoch:', '%04d' % (epoch + 1), 'cost =', '{:.9f}'.format(avg_cost))\n",
        "\n",
        "print('Learning finished')"
      ],
      "metadata": {
        "colab": {
          "base_uri": "https://localhost:8080/"
        },
        "id": "YqgYwoT20s0O",
        "outputId": "916f5ae8-cb1f-48cd-94a4-f6ef112d817b"
      },
      "execution_count": 6,
      "outputs": [
        {
          "output_type": "stream",
          "name": "stdout",
          "text": [
            "Epoch: 0001 cost = 0.537042618\n",
            "Epoch: 0002 cost = 0.358796537\n",
            "Epoch: 0003 cost = 0.330723614\n",
            "Epoch: 0004 cost = 0.316128343\n",
            "Epoch: 0005 cost = 0.306799918\n",
            "Epoch: 0006 cost = 0.299932212\n",
            "Epoch: 0007 cost = 0.294920772\n",
            "Epoch: 0008 cost = 0.290816337\n",
            "Epoch: 0009 cost = 0.287050664\n",
            "Epoch: 0010 cost = 0.284138978\n",
            "Epoch: 0011 cost = 0.281502724\n",
            "Epoch: 0012 cost = 0.279604942\n",
            "Epoch: 0013 cost = 0.277685046\n",
            "Epoch: 0014 cost = 0.275816381\n",
            "Epoch: 0015 cost = 0.274085104\n",
            "Learning finished\n"
          ]
        }
      ]
    },
    {
      "cell_type": "code",
      "source": [
        "# 테스트 데이터를 사용하여 모델을 테스트한다.\n",
        "with torch.no_grad(): # torch.no_grad()를 하면 gradient 계산을 수행하지 않는다.\n",
        "    X_test = mnist_test.test_data.view(-1, 28 * 28).float().to(device)\n",
        "    Y_test = mnist_test.test_labels.to(device)\n",
        "\n",
        "    prediction = linear(X_test)\n",
        "    correct_prediction = torch.argmax(prediction, 1) == Y_test\n",
        "    accuracy = correct_prediction.float().mean()\n",
        "    print('Accuracy:', accuracy.item())\n",
        "\n",
        "    # MNIST 테스트 데이터에서 무작위로 하나를 뽑아서 예측을 해본다\n",
        "    r = random.randint(0, len(mnist_test) - 1)\n",
        "    X_single_data = mnist_test.test_data[r:r + 1].view(1, 28 * 28).float().to(device)\n",
        "    Y_single_data = mnist_test.test_labels[r:r + 1].to(device)\n",
        "\n",
        "    print('Label: ', Y_single_data.item())\n",
        "    single_prediction = linear(X_single_data)\n",
        "    print('Prediction: ', torch.argmax(single_prediction, 1).item())\n",
        "\n",
        "    plt.imshow(mnist_test.test_data[r:r + 1].view(28, 28), cmap='Greys', interpolation='nearest')\n",
        "    plt.show()"
      ],
      "metadata": {
        "colab": {
          "base_uri": "https://localhost:8080/",
          "height": 396
        },
        "id": "IXxGP6hi0-xu",
        "outputId": "0d2489b1-b019-433e-b03d-25586922ce1c"
      },
      "execution_count": 8,
      "outputs": [
        {
          "output_type": "stream",
          "name": "stderr",
          "text": [
            "/usr/local/lib/python3.7/dist-packages/torchvision/datasets/mnist.py:67: UserWarning: test_data has been renamed data\n",
            "  warnings.warn(\"test_data has been renamed data\")\n",
            "/usr/local/lib/python3.7/dist-packages/torchvision/datasets/mnist.py:57: UserWarning: test_labels has been renamed targets\n",
            "  warnings.warn(\"test_labels has been renamed targets\")\n"
          ]
        },
        {
          "output_type": "stream",
          "name": "stdout",
          "text": [
            "Accuracy: 0.882099986076355\n",
            "Label:  6\n",
            "Prediction:  6\n"
          ]
        },
        {
          "output_type": "display_data",
          "data": {
            "image/png": "[encoded data removed]",
            "text/plain": [
              "<Figure size 432x288 with 1 Axes>"
            ]
          },
          "metadata": {
            "needs_background": "light"
          }
        }
      ]
    },
    {
      "cell_type": "code",
      "source": [
        "Y_single_data.dtype"
      ],
      "metadata": {
        "colab": {
          "base_uri": "https://localhost:8080/"
        },
        "id": "OhU6pltd2T51",
        "outputId": "09a90e07-52d6-4b14-eed5-ab56cb8fd9dd"
      },
      "execution_count": 11,
      "outputs": [
        {
          "output_type": "execute_result",
          "data": {
            "text/plain": [
              "torch.int64"
            ]
          },
          "metadata": {},
          "execution_count": 11
        }
      ]
    },
    {
      "cell_type": "code",
      "source": [
        "type(Y_single_data.item())"
      ],
      "metadata": {
        "colab": {
          "base_uri": "https://localhost:8080/"
        },
        "id": "W4UEwRhU2WCe",
        "outputId": "ef565a54-6b4b-4d06-f921-921a91c12924"
      },
      "execution_count": 15,
      "outputs": [
        {
          "output_type": "execute_result",
          "data": {
            "text/plain": [
              "int"
            ]
          },
          "metadata": {},
          "execution_count": 15
        }
      ]
    },
    {
      "cell_type": "code",
      "source": [
        ""
      ],
      "metadata": {
        "id": "xVteiFkZ2c8Y"
      },
      "execution_count": null,
      "outputs": []
    }
  ]
}